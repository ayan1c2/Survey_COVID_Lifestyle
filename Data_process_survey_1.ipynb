{
 "cells": [
  {
   "cell_type": "code",
   "execution_count": 1,
   "id": "14ad4de5",
   "metadata": {},
   "outputs": [],
   "source": [
    "import pandas as pd\n",
    "import numpy as np\n",
    "import seaborn as sns\n",
    "import matplotlib.pyplot as plt"
   ]
  },
  {
   "cell_type": "code",
   "execution_count": 2,
   "id": "d6c456f7",
   "metadata": {},
   "outputs": [
    {
     "data": {
      "text/html": [
       "<div>\n",
       "<style scoped>\n",
       "    .dataframe tbody tr th:only-of-type {\n",
       "        vertical-align: middle;\n",
       "    }\n",
       "\n",
       "    .dataframe tbody tr th {\n",
       "        vertical-align: top;\n",
       "    }\n",
       "\n",
       "    .dataframe thead th {\n",
       "        text-align: right;\n",
       "    }\n",
       "</style>\n",
       "<table border=\"1\" class=\"dataframe\">\n",
       "  <thead>\n",
       "    <tr style=\"text-align: right;\">\n",
       "      <th></th>\n",
       "      <th>Timestamp</th>\n",
       "      <th>Age</th>\n",
       "      <th>Height</th>\n",
       "      <th>Weight</th>\n",
       "      <th>Gender</th>\n",
       "      <th>City</th>\n",
       "      <th>Educational Level</th>\n",
       "      <th>Economic Status</th>\n",
       "      <th>Dependant</th>\n",
       "      <th>Is_Employed</th>\n",
       "      <th>...</th>\n",
       "      <th>Regular physician consultation (every 3-6 months)</th>\n",
       "      <th>Negative lifestyle</th>\n",
       "      <th>Skipping Diet</th>\n",
       "      <th>37. Which One of The Below Is Appropriate For You Currently?</th>\n",
       "      <th>Food-type</th>\n",
       "      <th>WFH due to COVID-19</th>\n",
       "      <th>Sedentary lifestyle due to COVID-19</th>\n",
       "      <th>Unhealthy food habit due to COVID-19</th>\n",
       "      <th>Addiction due to COVID</th>\n",
       "      <th>Depression</th>\n",
       "    </tr>\n",
       "  </thead>\n",
       "  <tbody>\n",
       "    <tr>\n",
       "      <th>0</th>\n",
       "      <td>2021/06/09 12:58:12 pm CET</td>\n",
       "      <td>50</td>\n",
       "      <td>51.0</td>\n",
       "      <td>75.0</td>\n",
       "      <td>Male</td>\n",
       "      <td>Kolkata</td>\n",
       "      <td>Bachelors</td>\n",
       "      <td>Upper Middle Class</td>\n",
       "      <td>4</td>\n",
       "      <td>Full-Time</td>\n",
       "      <td>...</td>\n",
       "      <td>No</td>\n",
       "      <td>Yes</td>\n",
       "      <td>Occasionally</td>\n",
       "      <td>None of the above</td>\n",
       "      <td>Vegetarian</td>\n",
       "      <td>Yes</td>\n",
       "      <td>Yes</td>\n",
       "      <td>No</td>\n",
       "      <td>No</td>\n",
       "      <td>No</td>\n",
       "    </tr>\n",
       "    <tr>\n",
       "      <th>1</th>\n",
       "      <td>2021/06/09 1:05:03 pm CET</td>\n",
       "      <td>26</td>\n",
       "      <td>71.0</td>\n",
       "      <td>69.0</td>\n",
       "      <td>Male</td>\n",
       "      <td>Kolkata</td>\n",
       "      <td>Masters</td>\n",
       "      <td>Upper Middle Class</td>\n",
       "      <td>1</td>\n",
       "      <td>Unemployed</td>\n",
       "      <td>...</td>\n",
       "      <td>No</td>\n",
       "      <td>Yes</td>\n",
       "      <td>Never</td>\n",
       "      <td>None of the above</td>\n",
       "      <td>Vegetarian</td>\n",
       "      <td>Yes</td>\n",
       "      <td>Yes</td>\n",
       "      <td>No</td>\n",
       "      <td>No</td>\n",
       "      <td>Yes</td>\n",
       "    </tr>\n",
       "    <tr>\n",
       "      <th>2</th>\n",
       "      <td>2021/06/09 2:22:33 pm CET</td>\n",
       "      <td>26</td>\n",
       "      <td>67.0</td>\n",
       "      <td>70.0</td>\n",
       "      <td>Male</td>\n",
       "      <td>Kolkata</td>\n",
       "      <td>Above</td>\n",
       "      <td>Lower Middle Class</td>\n",
       "      <td>2</td>\n",
       "      <td>Full-Time</td>\n",
       "      <td>...</td>\n",
       "      <td>No</td>\n",
       "      <td>Yes</td>\n",
       "      <td>Occasionally</td>\n",
       "      <td>None of the above</td>\n",
       "      <td>Non-Veg</td>\n",
       "      <td>Yes</td>\n",
       "      <td>No</td>\n",
       "      <td>No</td>\n",
       "      <td>No</td>\n",
       "      <td>No</td>\n",
       "    </tr>\n",
       "    <tr>\n",
       "      <th>3</th>\n",
       "      <td>2021/06/09 2:23:45 pm CET</td>\n",
       "      <td>24</td>\n",
       "      <td>72.0</td>\n",
       "      <td>85.0</td>\n",
       "      <td>Male</td>\n",
       "      <td>Kolkata</td>\n",
       "      <td>Masters</td>\n",
       "      <td>Lower Middle Class</td>\n",
       "      <td>1</td>\n",
       "      <td>Part-Time</td>\n",
       "      <td>...</td>\n",
       "      <td>No</td>\n",
       "      <td>Yes</td>\n",
       "      <td>Occasionally</td>\n",
       "      <td>None of the above</td>\n",
       "      <td>Non-Veg</td>\n",
       "      <td>Sometimes</td>\n",
       "      <td>Yes</td>\n",
       "      <td>Yes</td>\n",
       "      <td>No</td>\n",
       "      <td>Yes</td>\n",
       "    </tr>\n",
       "    <tr>\n",
       "      <th>4</th>\n",
       "      <td>2021/06/09 2:26:26 pm CET</td>\n",
       "      <td>38</td>\n",
       "      <td>74.0</td>\n",
       "      <td>93.0</td>\n",
       "      <td>Male</td>\n",
       "      <td>Kolkata</td>\n",
       "      <td>Bachelors</td>\n",
       "      <td>Lower Middle Class</td>\n",
       "      <td>3</td>\n",
       "      <td>Full-Time</td>\n",
       "      <td>...</td>\n",
       "      <td>Yes</td>\n",
       "      <td>No</td>\n",
       "      <td>Never</td>\n",
       "      <td>None of the above</td>\n",
       "      <td>Non-Veg</td>\n",
       "      <td>Sometimes</td>\n",
       "      <td>No</td>\n",
       "      <td>No</td>\n",
       "      <td>No</td>\n",
       "      <td>No</td>\n",
       "    </tr>\n",
       "  </tbody>\n",
       "</table>\n",
       "<p>5 rows × 44 columns</p>\n",
       "</div>"
      ],
      "text/plain": [
       "                    Timestamp  Age  Height  Weight Gender     City  \\\n",
       "0  2021/06/09 12:58:12 pm CET   50    51.0    75.0   Male  Kolkata   \n",
       "1   2021/06/09 1:05:03 pm CET   26    71.0    69.0   Male  Kolkata   \n",
       "2   2021/06/09 2:22:33 pm CET   26    67.0    70.0   Male  Kolkata   \n",
       "3   2021/06/09 2:23:45 pm CET   24    72.0    85.0   Male  Kolkata   \n",
       "4   2021/06/09 2:26:26 pm CET   38    74.0    93.0   Male  Kolkata   \n",
       "\n",
       "  Educational Level    Economic Status   Dependant Is_Employed  ...  \\\n",
       "0         Bachelors  Upper Middle Class          4   Full-Time  ...   \n",
       "1           Masters  Upper Middle Class          1  Unemployed  ...   \n",
       "2             Above  Lower Middle Class          2   Full-Time  ...   \n",
       "3           Masters  Lower Middle Class          1   Part-Time  ...   \n",
       "4         Bachelors  Lower Middle Class          3   Full-Time  ...   \n",
       "\n",
       "  Regular physician consultation (every 3-6 months) Negative lifestyle  \\\n",
       "0                                                No                Yes   \n",
       "1                                                No                Yes   \n",
       "2                                                No                Yes   \n",
       "3                                                No                Yes   \n",
       "4                                               Yes                 No   \n",
       "\n",
       "  Skipping Diet  \\\n",
       "0  Occasionally   \n",
       "1         Never   \n",
       "2  Occasionally   \n",
       "3  Occasionally   \n",
       "4         Never   \n",
       "\n",
       "  37. Which One of The Below Is Appropriate For You Currently?     Food-type  \\\n",
       "0                                  None of the above              Vegetarian   \n",
       "1                                  None of the above              Vegetarian   \n",
       "2                                  None of the above                 Non-Veg   \n",
       "3                                  None of the above                 Non-Veg   \n",
       "4                                  None of the above                 Non-Veg   \n",
       "\n",
       "  WFH due to COVID-19 Sedentary lifestyle due to COVID-19  \\\n",
       "0                 Yes                                 Yes   \n",
       "1                 Yes                                 Yes   \n",
       "2                 Yes                                  No   \n",
       "3           Sometimes                                 Yes   \n",
       "4           Sometimes                                  No   \n",
       "\n",
       "  Unhealthy food habit due to COVID-19 Addiction due to COVID Depression  \n",
       "0                                   No                     No         No  \n",
       "1                                   No                     No        Yes  \n",
       "2                                   No                     No         No  \n",
       "3                                  Yes                     No        Yes  \n",
       "4                                   No                     No         No  \n",
       "\n",
       "[5 rows x 44 columns]"
      ]
     },
     "execution_count": 2,
     "metadata": {},
     "output_type": "execute_result"
    }
   ],
   "source": [
    "filename = r\"survey_1.csv\"\n",
    "data = pd.read_csv(filename)\n",
    "data.head()"
   ]
  },
  {
   "cell_type": "code",
   "execution_count": 4,
   "id": "23d8f487",
   "metadata": {},
   "outputs": [
    {
     "data": {
      "text/plain": [
       "Index(['Timestamp', 'Age', 'Height', 'Weight', 'Gender', 'City',\n",
       "       'Educational Level', 'Economic Status ', 'Dependant', 'Is_Employed',\n",
       "       'Is_Medically_Insured', 'Visit_Gym', 'Duration of daily exercise',\n",
       "       'Duration of daily walking', 'Smoking Habit',\n",
       "       'Habit of Snus (Khaini)  ', 'Habit of Paan-Masala', 'Habit of Alcohol',\n",
       "       'The habit of Energy Drinks or Sweet Beverages (coco-cola or similar)?   (in a month)  ',\n",
       "       'Mobile Application for Activity Tracking',\n",
       "       'Mobile Application for Diet Tracking', 'Social Participation Type',\n",
       "       'Social Participation where Spend most of The Time in a Week',\n",
       "       'The habit of Vegetables', 'Habit of Fruits',\n",
       "       'Habit of Junk Fried Foods', 'Habit of Sweets', 'Habit of Red Meat',\n",
       "       'Habit of Taking BBQ', 'Habit of Taking discritionary foods',\n",
       "       'Week_Days_sleep_time_avg', 'Weekends_sleep_time_avg',\n",
       "       'Existing health problems', 'Hospitalized in a year',\n",
       "       'Regular physician consultation (every 3-6 months)',\n",
       "       'Negative lifestyle', 'Skipping Diet',\n",
       "       '37. Which One of The Below Is Appropriate For You Currently?  ',\n",
       "       'Food-type', 'WFH due to COVID-19',\n",
       "       'Sedentary lifestyle due to COVID-19',\n",
       "       'Unhealthy food habit due to COVID-19', 'Addiction due to COVID',\n",
       "       'Depression'],\n",
       "      dtype='object')"
      ]
     },
     "execution_count": 4,
     "metadata": {},
     "output_type": "execute_result"
    }
   ],
   "source": [
    "data.columns"
   ]
  },
  {
   "cell_type": "code",
   "execution_count": 5,
   "id": "a60ddd2a",
   "metadata": {},
   "outputs": [
    {
     "data": {
      "text/plain": [
       "Timestamp                                                                                 0\n",
       "Age                                                                                       0\n",
       "Height                                                                                    0\n",
       "Weight                                                                                    0\n",
       "Gender                                                                                    0\n",
       "City                                                                                      0\n",
       "Educational Level                                                                         0\n",
       "Economic Status                                                                           0\n",
       "Dependant                                                                                 0\n",
       "Is_Employed                                                                               0\n",
       "Is_Medically_Insured                                                                      0\n",
       "Visit_Gym                                                                                 0\n",
       "Duration of daily exercise                                                                0\n",
       "Duration of daily walking                                                                 0\n",
       "Smoking Habit                                                                             0\n",
       "Habit of Snus (Khaini)                                                                    0\n",
       "Habit of Paan-Masala                                                                      0\n",
       "Habit of Alcohol                                                                          0\n",
       "The habit of Energy Drinks or Sweet Beverages (coco-cola or similar)?   (in a month)      0\n",
       "Mobile Application for Activity Tracking                                                  0\n",
       "Mobile Application for Diet Tracking                                                      0\n",
       "Social Participation Type                                                                 0\n",
       "Social Participation where Spend most of The Time in a Week                               0\n",
       "The habit of Vegetables                                                                   0\n",
       "Habit of Fruits                                                                           0\n",
       "Habit of Junk Fried Foods                                                                 0\n",
       "Habit of Sweets                                                                           0\n",
       "Habit of Red Meat                                                                         0\n",
       "Habit of Taking BBQ                                                                       0\n",
       "Habit of Taking discritionary foods                                                       0\n",
       "Week_Days_sleep_time_avg                                                                  0\n",
       "Weekends_sleep_time_avg                                                                   0\n",
       "Existing health problems                                                                  0\n",
       "Hospitalized in a year                                                                    0\n",
       "Regular physician consultation (every 3-6 months)                                         0\n",
       "Negative lifestyle                                                                        0\n",
       "Skipping Diet                                                                             0\n",
       "37. Which One of The Below Is Appropriate For You Currently?                              0\n",
       "Food-type                                                                                 0\n",
       "WFH due to COVID-19                                                                       0\n",
       "Sedentary lifestyle due to COVID-19                                                       0\n",
       "Unhealthy food habit due to COVID-19                                                      0\n",
       "Addiction due to COVID                                                                    0\n",
       "Depression                                                                                0\n",
       "dtype: int64"
      ]
     },
     "execution_count": 5,
     "metadata": {},
     "output_type": "execute_result"
    }
   ],
   "source": [
    "data.isnull().sum()"
   ]
  },
  {
   "cell_type": "code",
   "execution_count": 6,
   "id": "6ed41887",
   "metadata": {},
   "outputs": [
    {
     "data": {
      "text/plain": [
       "Timestamp                                                                                  object\n",
       "Age                                                                                         int64\n",
       "Height                                                                                    float64\n",
       "Weight                                                                                    float64\n",
       "Gender                                                                                     object\n",
       "City                                                                                       object\n",
       "Educational Level                                                                          object\n",
       "Economic Status                                                                            object\n",
       "Dependant                                                                                   int64\n",
       "Is_Employed                                                                                object\n",
       "Is_Medically_Insured                                                                       object\n",
       "Visit_Gym                                                                                  object\n",
       "Duration of daily exercise                                                                 object\n",
       "Duration of daily walking                                                                  object\n",
       "Smoking Habit                                                                              object\n",
       "Habit of Snus (Khaini)                                                                     object\n",
       "Habit of Paan-Masala                                                                       object\n",
       "Habit of Alcohol                                                                           object\n",
       "The habit of Energy Drinks or Sweet Beverages (coco-cola or similar)?   (in a month)       object\n",
       "Mobile Application for Activity Tracking                                                   object\n",
       "Mobile Application for Diet Tracking                                                       object\n",
       "Social Participation Type                                                                  object\n",
       "Social Participation where Spend most of The Time in a Week                                object\n",
       "The habit of Vegetables                                                                    object\n",
       "Habit of Fruits                                                                            object\n",
       "Habit of Junk Fried Foods                                                                  object\n",
       "Habit of Sweets                                                                            object\n",
       "Habit of Red Meat                                                                          object\n",
       "Habit of Taking BBQ                                                                        object\n",
       "Habit of Taking discritionary foods                                                        object\n",
       "Week_Days_sleep_time_avg                                                                  float64\n",
       "Weekends_sleep_time_avg                                                                   float64\n",
       "Existing health problems                                                                   object\n",
       "Hospitalized in a year                                                                     object\n",
       "Regular physician consultation (every 3-6 months)                                          object\n",
       "Negative lifestyle                                                                         object\n",
       "Skipping Diet                                                                              object\n",
       "37. Which One of The Below Is Appropriate For You Currently?                               object\n",
       "Food-type                                                                                  object\n",
       "WFH due to COVID-19                                                                        object\n",
       "Sedentary lifestyle due to COVID-19                                                        object\n",
       "Unhealthy food habit due to COVID-19                                                       object\n",
       "Addiction due to COVID                                                                     object\n",
       "Depression                                                                                 object\n",
       "dtype: object"
      ]
     },
     "execution_count": 6,
     "metadata": {},
     "output_type": "execute_result"
    }
   ],
   "source": [
    "data.dtypes"
   ]
  },
  {
   "cell_type": "code",
   "execution_count": 7,
   "id": "b3dba4b8",
   "metadata": {},
   "outputs": [
    {
     "name": "stderr",
     "output_type": "stream",
     "text": [
      "C:\\Users\\ayan1\\AppData\\Roaming\\Python\\Python39\\site-packages\\dateutil\\parser\\_parser.py:1207: UnknownTimezoneWarning: tzname CET identified but not understood.  Pass `tzinfos` argument in order to correctly return a timezone-aware datetime.  In a future version, this will raise an exception.\n",
      "  warnings.warn(\"tzname {tzname} identified but not understood.  \"\n"
     ]
    }
   ],
   "source": [
    "##By using to_datetime method we have converted the object type date_time into a proper date and time format which is going to help us further in data visualization\n",
    "data.Timestamp = pd.to_datetime(data.Timestamp)"
   ]
  },
  {
   "cell_type": "code",
   "execution_count": 7,
   "id": "ed5b5f37",
   "metadata": {},
   "outputs": [],
   "source": [
    "#data['year'] = data['Timestamp'].dt.year\n",
    "#data['month'] = data['Timestamp'].dt.month\n",
    "#data['day'] = data['Timestamp'].dt.day\n",
    "#data['dayofweek'] = data['Timestamp'].dt.dayofweek.replace([0,1,2,3,4,5,6],['monday','tuesday','wednesday','thursday','friday','saturday','sunday'])\n",
    "#data['hour'] = data['Timestamp'].dt.hour\n",
    "#data.head()"
   ]
  },
  {
   "cell_type": "code",
   "execution_count": 8,
   "id": "007000c9",
   "metadata": {},
   "outputs": [
    {
     "data": {
      "text/html": [
       "<div>\n",
       "<style scoped>\n",
       "    .dataframe tbody tr th:only-of-type {\n",
       "        vertical-align: middle;\n",
       "    }\n",
       "\n",
       "    .dataframe tbody tr th {\n",
       "        vertical-align: top;\n",
       "    }\n",
       "\n",
       "    .dataframe thead th {\n",
       "        text-align: right;\n",
       "    }\n",
       "</style>\n",
       "<table border=\"1\" class=\"dataframe\">\n",
       "  <thead>\n",
       "    <tr style=\"text-align: right;\">\n",
       "      <th></th>\n",
       "      <th>Age</th>\n",
       "      <th>Height</th>\n",
       "      <th>Weight</th>\n",
       "      <th>Dependant</th>\n",
       "      <th>Week_Days_sleep_time_avg</th>\n",
       "      <th>Weekends_sleep_time_avg</th>\n",
       "    </tr>\n",
       "  </thead>\n",
       "  <tbody>\n",
       "    <tr>\n",
       "      <th>count</th>\n",
       "      <td>1834.000000</td>\n",
       "      <td>1834.000000</td>\n",
       "      <td>1834.000000</td>\n",
       "      <td>1834.000000</td>\n",
       "      <td>1834.000000</td>\n",
       "      <td>1834.000000</td>\n",
       "    </tr>\n",
       "    <tr>\n",
       "      <th>mean</th>\n",
       "      <td>55.035987</td>\n",
       "      <td>66.662058</td>\n",
       "      <td>69.610523</td>\n",
       "      <td>21.900763</td>\n",
       "      <td>9.408628</td>\n",
       "      <td>8.843021</td>\n",
       "    </tr>\n",
       "    <tr>\n",
       "      <th>std</th>\n",
       "      <td>113.098487</td>\n",
       "      <td>17.760433</td>\n",
       "      <td>13.316043</td>\n",
       "      <td>840.579376</td>\n",
       "      <td>6.074088</td>\n",
       "      <td>3.590412</td>\n",
       "    </tr>\n",
       "    <tr>\n",
       "      <th>min</th>\n",
       "      <td>16.000000</td>\n",
       "      <td>4.100000</td>\n",
       "      <td>38.000000</td>\n",
       "      <td>1.000000</td>\n",
       "      <td>0.000000</td>\n",
       "      <td>0.000000</td>\n",
       "    </tr>\n",
       "    <tr>\n",
       "      <th>25%</th>\n",
       "      <td>28.000000</td>\n",
       "      <td>64.000000</td>\n",
       "      <td>59.000000</td>\n",
       "      <td>1.000000</td>\n",
       "      <td>8.000000</td>\n",
       "      <td>8.000000</td>\n",
       "    </tr>\n",
       "    <tr>\n",
       "      <th>50%</th>\n",
       "      <td>46.000000</td>\n",
       "      <td>67.000000</td>\n",
       "      <td>67.000000</td>\n",
       "      <td>2.000000</td>\n",
       "      <td>9.000000</td>\n",
       "      <td>9.000000</td>\n",
       "    </tr>\n",
       "    <tr>\n",
       "      <th>75%</th>\n",
       "      <td>67.000000</td>\n",
       "      <td>70.000000</td>\n",
       "      <td>79.000000</td>\n",
       "      <td>3.000000</td>\n",
       "      <td>9.000000</td>\n",
       "      <td>9.000000</td>\n",
       "    </tr>\n",
       "    <tr>\n",
       "      <th>max</th>\n",
       "      <td>2002.000000</td>\n",
       "      <td>256.000000</td>\n",
       "      <td>109.000000</td>\n",
       "      <td>36000.000000</td>\n",
       "      <td>95.000000</td>\n",
       "      <td>80.000000</td>\n",
       "    </tr>\n",
       "  </tbody>\n",
       "</table>\n",
       "</div>"
      ],
      "text/plain": [
       "               Age       Height       Weight     Dependant  \\\n",
       "count  1834.000000  1834.000000  1834.000000   1834.000000   \n",
       "mean     55.035987    66.662058    69.610523     21.900763   \n",
       "std     113.098487    17.760433    13.316043    840.579376   \n",
       "min      16.000000     4.100000    38.000000      1.000000   \n",
       "25%      28.000000    64.000000    59.000000      1.000000   \n",
       "50%      46.000000    67.000000    67.000000      2.000000   \n",
       "75%      67.000000    70.000000    79.000000      3.000000   \n",
       "max    2002.000000   256.000000   109.000000  36000.000000   \n",
       "\n",
       "       Week_Days_sleep_time_avg  Weekends_sleep_time_avg  \n",
       "count               1834.000000              1834.000000  \n",
       "mean                   9.408628                 8.843021  \n",
       "std                    6.074088                 3.590412  \n",
       "min                    0.000000                 0.000000  \n",
       "25%                    8.000000                 8.000000  \n",
       "50%                    9.000000                 9.000000  \n",
       "75%                    9.000000                 9.000000  \n",
       "max                   95.000000                80.000000  "
      ]
     },
     "execution_count": 8,
     "metadata": {},
     "output_type": "execute_result"
    }
   ],
   "source": [
    "data.describe()"
   ]
  },
  {
   "cell_type": "code",
   "execution_count": 9,
   "id": "44266294",
   "metadata": {},
   "outputs": [
    {
     "data": {
      "text/plain": [
       "(1834, 44)"
      ]
     },
     "execution_count": 9,
     "metadata": {},
     "output_type": "execute_result"
    }
   ],
   "source": [
    "data.shape"
   ]
  },
  {
   "cell_type": "code",
   "execution_count": 10,
   "id": "8a69ecff",
   "metadata": {},
   "outputs": [
    {
     "data": {
      "text/plain": [
       "0"
      ]
     },
     "execution_count": 10,
     "metadata": {},
     "output_type": "execute_result"
    }
   ],
   "source": [
    "#Duplicate data\n",
    "len(data[data.duplicated()==True])"
   ]
  },
  {
   "cell_type": "code",
   "execution_count": 11,
   "id": "5a7a2e63",
   "metadata": {},
   "outputs": [
    {
     "data": {
      "text/plain": [
       "6"
      ]
     },
     "execution_count": 11,
     "metadata": {},
     "output_type": "execute_result"
    },
    {
     "data": {
      "image/png": "[encoded data removed]",
      "text/plain": [
       "<Figure size 640x480 with 1 Axes>"
      ]
     },
     "metadata": {},
     "output_type": "display_data"
    }
   ],
   "source": [
    "sns.set_style(\"whitegrid\")\n",
    "sns.boxplot(y = data['Age'])\n",
    "\n",
    "#Outlier\n",
    "len(data[data['Age']>100])"
   ]
  },
  {
   "cell_type": "code",
   "execution_count": 12,
   "id": "0138b0e6",
   "metadata": {},
   "outputs": [
    {
     "data": {
      "text/plain": [
       "65"
      ]
     },
     "execution_count": 12,
     "metadata": {},
     "output_type": "execute_result"
    },
    {
     "data": {
      "image/png": "[encoded data removed]",
      "text/plain": [
       "<Figure size 640x480 with 1 Axes>"
      ]
     },
     "metadata": {},
     "output_type": "display_data"
    }
   ],
   "source": [
    "sns.boxplot(y = data['Height'])\n",
    "\n",
    "#Outlier\n",
    "len(data[data['Height']<10.0])"
   ]
  },
  {
   "cell_type": "code",
   "execution_count": 13,
   "id": "c474376c",
   "metadata": {},
   "outputs": [
    {
     "data": {
      "text/plain": [
       "28"
      ]
     },
     "execution_count": 13,
     "metadata": {},
     "output_type": "execute_result"
    }
   ],
   "source": [
    "len(data[data['Height']>84])"
   ]
  },
  {
   "cell_type": "code",
   "execution_count": 14,
   "id": "8a9fdbaa",
   "metadata": {},
   "outputs": [
    {
     "data": {
      "text/plain": [
       "<AxesSubplot: ylabel='Weight'>"
      ]
     },
     "execution_count": 14,
     "metadata": {},
     "output_type": "execute_result"
    },
    {
     "data": {
      "image/png": "[encoded data removed]",
      "text/plain": [
       "<Figure size 640x480 with 1 Axes>"
      ]
     },
     "metadata": {},
     "output_type": "display_data"
    }
   ],
   "source": [
    "sns.boxplot(y = data['Weight'])"
   ]
  },
  {
   "cell_type": "code",
   "execution_count": 15,
   "id": "30255e87",
   "metadata": {},
   "outputs": [
    {
     "name": "stderr",
     "output_type": "stream",
     "text": [
      "C:\\Users\\ayan1\\AppData\\Local\\Temp\\ipykernel_4208\\3628541773.py:4: SettingWithCopyWarning: \n",
      "A value is trying to be set on a copy of a slice from a DataFrame\n",
      "\n",
      "See the caveats in the documentation: https://pandas.pydata.org/pandas-docs/stable/user_guide/indexing.html#returning-a-view-versus-a-copy\n",
      "  data['Age'][ind] = (2021 - data['Age'][ind])\n"
     ]
    }
   ],
   "source": [
    "#Fix outlier\n",
    "for ind in data.index:\n",
    "    if (data['Age'][ind] > 100):\n",
    "        data['Age'][ind] = (2021 - data['Age'][ind])"
   ]
  },
  {
   "cell_type": "code",
   "execution_count": 16,
   "id": "85350111",
   "metadata": {},
   "outputs": [
    {
     "data": {
      "text/plain": [
       "0"
      ]
     },
     "execution_count": 16,
     "metadata": {},
     "output_type": "execute_result"
    }
   ],
   "source": [
    "#Verification\n",
    "len(data[data['Age']>100])"
   ]
  },
  {
   "cell_type": "code",
   "execution_count": 17,
   "id": "f067e469",
   "metadata": {},
   "outputs": [
    {
     "data": {
      "text/plain": [
       "2"
      ]
     },
     "execution_count": 17,
     "metadata": {},
     "output_type": "execute_result"
    }
   ],
   "source": [
    "#verification\n",
    "len(data[data['Age']<18])"
   ]
  },
  {
   "cell_type": "code",
   "execution_count": 18,
   "id": "51c254a8",
   "metadata": {},
   "outputs": [
    {
     "data": {
      "text/plain": [
       "(1832, 44)"
      ]
     },
     "execution_count": 18,
     "metadata": {},
     "output_type": "execute_result"
    }
   ],
   "source": [
    "#indexAge = data[ (data['Age'] >= 20) & (data['Age'] <= 25) ].index\n",
    "indexAge = data[ (data['Age'] < 18) ].index\n",
    "data.drop(indexAge , inplace=True)\n",
    "data.shape"
   ]
  },
  {
   "cell_type": "code",
   "execution_count": 19,
   "id": "f06e89b8",
   "metadata": {},
   "outputs": [
    {
     "data": {
      "text/plain": [
       "<AxesSubplot: ylabel='Age'>"
      ]
     },
     "execution_count": 19,
     "metadata": {},
     "output_type": "execute_result"
    },
    {
     "data": {
      "image/png": "[encoded data removed]",
      "text/plain": [
       "<Figure size 640x480 with 1 Axes>"
      ]
     },
     "metadata": {},
     "output_type": "display_data"
    }
   ],
   "source": [
    "sns.boxplot(y = data['Age'])"
   ]
  },
  {
   "cell_type": "code",
   "execution_count": 20,
   "id": "fba9580e",
   "metadata": {},
   "outputs": [
    {
     "data": {
      "text/html": [
       "<div>\n",
       "<style scoped>\n",
       "    .dataframe tbody tr th:only-of-type {\n",
       "        vertical-align: middle;\n",
       "    }\n",
       "\n",
       "    .dataframe tbody tr th {\n",
       "        vertical-align: top;\n",
       "    }\n",
       "\n",
       "    .dataframe thead th {\n",
       "        text-align: right;\n",
       "    }\n",
       "</style>\n",
       "<table border=\"1\" class=\"dataframe\">\n",
       "  <thead>\n",
       "    <tr style=\"text-align: right;\">\n",
       "      <th></th>\n",
       "      <th>Age</th>\n",
       "      <th>Height</th>\n",
       "      <th>Weight</th>\n",
       "      <th>Dependant</th>\n",
       "      <th>Week_Days_sleep_time_avg</th>\n",
       "      <th>Weekends_sleep_time_avg</th>\n",
       "    </tr>\n",
       "  </thead>\n",
       "  <tbody>\n",
       "    <tr>\n",
       "      <th>count</th>\n",
       "      <td>1832.000000</td>\n",
       "      <td>1832.000000</td>\n",
       "      <td>1832.000000</td>\n",
       "      <td>1832.000000</td>\n",
       "      <td>1832.000000</td>\n",
       "      <td>1832.000000</td>\n",
       "    </tr>\n",
       "    <tr>\n",
       "      <th>mean</th>\n",
       "      <td>48.640284</td>\n",
       "      <td>66.699079</td>\n",
       "      <td>69.626474</td>\n",
       "      <td>21.921943</td>\n",
       "      <td>9.410166</td>\n",
       "      <td>8.843395</td>\n",
       "    </tr>\n",
       "    <tr>\n",
       "      <th>std</th>\n",
       "      <td>21.303763</td>\n",
       "      <td>17.711829</td>\n",
       "      <td>13.313526</td>\n",
       "      <td>841.038087</td>\n",
       "      <td>6.077226</td>\n",
       "      <td>3.592317</td>\n",
       "    </tr>\n",
       "    <tr>\n",
       "      <th>min</th>\n",
       "      <td>18.000000</td>\n",
       "      <td>4.100000</td>\n",
       "      <td>38.000000</td>\n",
       "      <td>1.000000</td>\n",
       "      <td>0.000000</td>\n",
       "      <td>0.000000</td>\n",
       "    </tr>\n",
       "    <tr>\n",
       "      <th>25%</th>\n",
       "      <td>28.000000</td>\n",
       "      <td>64.000000</td>\n",
       "      <td>59.000000</td>\n",
       "      <td>1.000000</td>\n",
       "      <td>8.000000</td>\n",
       "      <td>8.000000</td>\n",
       "    </tr>\n",
       "    <tr>\n",
       "      <th>50%</th>\n",
       "      <td>46.000000</td>\n",
       "      <td>67.000000</td>\n",
       "      <td>67.000000</td>\n",
       "      <td>2.000000</td>\n",
       "      <td>9.000000</td>\n",
       "      <td>9.000000</td>\n",
       "    </tr>\n",
       "    <tr>\n",
       "      <th>75%</th>\n",
       "      <td>67.000000</td>\n",
       "      <td>70.000000</td>\n",
       "      <td>79.250000</td>\n",
       "      <td>3.000000</td>\n",
       "      <td>9.000000</td>\n",
       "      <td>9.000000</td>\n",
       "    </tr>\n",
       "    <tr>\n",
       "      <th>max</th>\n",
       "      <td>89.000000</td>\n",
       "      <td>256.000000</td>\n",
       "      <td>109.000000</td>\n",
       "      <td>36000.000000</td>\n",
       "      <td>95.000000</td>\n",
       "      <td>80.000000</td>\n",
       "    </tr>\n",
       "  </tbody>\n",
       "</table>\n",
       "</div>"
      ],
      "text/plain": [
       "               Age       Height       Weight     Dependant  \\\n",
       "count  1832.000000  1832.000000  1832.000000   1832.000000   \n",
       "mean     48.640284    66.699079    69.626474     21.921943   \n",
       "std      21.303763    17.711829    13.313526    841.038087   \n",
       "min      18.000000     4.100000    38.000000      1.000000   \n",
       "25%      28.000000    64.000000    59.000000      1.000000   \n",
       "50%      46.000000    67.000000    67.000000      2.000000   \n",
       "75%      67.000000    70.000000    79.250000      3.000000   \n",
       "max      89.000000   256.000000   109.000000  36000.000000   \n",
       "\n",
       "       Week_Days_sleep_time_avg  Weekends_sleep_time_avg  \n",
       "count               1832.000000              1832.000000  \n",
       "mean                   9.410166                 8.843395  \n",
       "std                    6.077226                 3.592317  \n",
       "min                    0.000000                 0.000000  \n",
       "25%                    8.000000                 8.000000  \n",
       "50%                    9.000000                 9.000000  \n",
       "75%                    9.000000                 9.000000  \n",
       "max                   95.000000                80.000000  "
      ]
     },
     "execution_count": 20,
     "metadata": {},
     "output_type": "execute_result"
    }
   ],
   "source": [
    "data.describe()"
   ]
  },
  {
   "cell_type": "code",
   "execution_count": 21,
   "id": "0e6b63a5",
   "metadata": {},
   "outputs": [
    {
     "data": {
      "text/plain": [
       "(1832, 44)"
      ]
     },
     "execution_count": 21,
     "metadata": {},
     "output_type": "execute_result"
    }
   ],
   "source": [
    "data.shape"
   ]
  },
  {
   "cell_type": "code",
   "execution_count": 22,
   "id": "fe2b20fc",
   "metadata": {},
   "outputs": [
    {
     "name": "stderr",
     "output_type": "stream",
     "text": [
      "C:\\Users\\ayan1\\AppData\\Local\\Temp\\ipykernel_4208\\2460110350.py:4: SettingWithCopyWarning: \n",
      "A value is trying to be set on a copy of a slice from a DataFrame\n",
      "\n",
      "See the caveats in the documentation: https://pandas.pydata.org/pandas-docs/stable/user_guide/indexing.html#returning-a-view-versus-a-copy\n",
      "  data['Height'][ind] = (data['Height'][ind]) * 12\n"
     ]
    }
   ],
   "source": [
    "#Fix outlier\n",
    "for ind in data.index:\n",
    "    if (data['Height'][ind] < 10):\n",
    "        data['Height'][ind] = (data['Height'][ind]) * 12\n",
    "    "
   ]
  },
  {
   "cell_type": "code",
   "execution_count": 23,
   "id": "3b39e28f",
   "metadata": {},
   "outputs": [
    {
     "data": {
      "text/plain": [
       "<AxesSubplot: ylabel='Height'>"
      ]
     },
     "execution_count": 23,
     "metadata": {},
     "output_type": "execute_result"
    },
    {
     "data": {
      "image/png": "[encoded data removed]",
      "text/plain": [
       "<Figure size 640x480 with 1 Axes>"
      ]
     },
     "metadata": {},
     "output_type": "display_data"
    }
   ],
   "source": [
    "sns.boxplot(y = data['Height'])"
   ]
  },
  {
   "cell_type": "code",
   "execution_count": 24,
   "id": "1c87f798",
   "metadata": {},
   "outputs": [
    {
     "data": {
      "text/plain": [
       "0"
      ]
     },
     "execution_count": 24,
     "metadata": {},
     "output_type": "execute_result"
    }
   ],
   "source": [
    "len(data[data['Height']<10])"
   ]
  },
  {
   "cell_type": "code",
   "execution_count": 25,
   "id": "d73efd63",
   "metadata": {},
   "outputs": [
    {
     "data": {
      "text/plain": [
       "(1831, 44)"
      ]
     },
     "execution_count": 25,
     "metadata": {},
     "output_type": "execute_result"
    }
   ],
   "source": [
    "#indexAge = data[ (data['Age'] >= 20) & (data['Age'] <= 25) ].index\n",
    "indexAge = data[ (data['Height'] == 10) ].index\n",
    "data.drop(indexAge , inplace=True)\n",
    "data.shape"
   ]
  },
  {
   "cell_type": "code",
   "execution_count": 26,
   "id": "c98061fa",
   "metadata": {},
   "outputs": [
    {
     "data": {
      "text/plain": [
       "28"
      ]
     },
     "execution_count": 26,
     "metadata": {},
     "output_type": "execute_result"
    }
   ],
   "source": [
    "len(data[data['Height']>84])"
   ]
  },
  {
   "cell_type": "code",
   "execution_count": 27,
   "id": "14872385",
   "metadata": {},
   "outputs": [
    {
     "name": "stderr",
     "output_type": "stream",
     "text": [
      "C:\\Users\\ayan1\\AppData\\Local\\Temp\\ipykernel_4208\\3130124035.py:4: SettingWithCopyWarning: \n",
      "A value is trying to be set on a copy of a slice from a DataFrame\n",
      "\n",
      "See the caveats in the documentation: https://pandas.pydata.org/pandas-docs/stable/user_guide/indexing.html#returning-a-view-versus-a-copy\n",
      "  data['Height'][ind] = (data['Height'][ind]) * 2.54\n"
     ]
    }
   ],
   "source": [
    "#Fix outlier\n",
    "for ind in data.index:\n",
    "    if (data['Height'][ind] < 84):\n",
    "        data['Height'][ind] = (data['Height'][ind]) * 2.54"
   ]
  },
  {
   "cell_type": "code",
   "execution_count": 28,
   "id": "8ee2b020",
   "metadata": {},
   "outputs": [
    {
     "data": {
      "text/plain": [
       "<AxesSubplot: ylabel='Height'>"
      ]
     },
     "execution_count": 28,
     "metadata": {},
     "output_type": "execute_result"
    },
    {
     "data": {
      "image/png": "[encoded data removed]",
      "text/plain": [
       "<Figure size 640x480 with 1 Axes>"
      ]
     },
     "metadata": {},
     "output_type": "display_data"
    }
   ],
   "source": [
    "sns.boxplot(y = data['Height'])"
   ]
  },
  {
   "cell_type": "code",
   "execution_count": 29,
   "id": "a558146a",
   "metadata": {},
   "outputs": [
    {
     "data": {
      "text/plain": [
       "1"
      ]
     },
     "execution_count": 29,
     "metadata": {},
     "output_type": "execute_result"
    }
   ],
   "source": [
    "len(data[data['Height']>225])"
   ]
  },
  {
   "cell_type": "code",
   "execution_count": 30,
   "id": "3abd4c11",
   "metadata": {},
   "outputs": [
    {
     "data": {
      "text/plain": [
       "(1830, 44)"
      ]
     },
     "execution_count": 30,
     "metadata": {},
     "output_type": "execute_result"
    }
   ],
   "source": [
    "indexAge = data[ (data['Height'] >225) ].index\n",
    "data.drop(indexAge , inplace=True)\n",
    "data.shape"
   ]
  },
  {
   "cell_type": "code",
   "execution_count": 31,
   "id": "983ecf67",
   "metadata": {},
   "outputs": [
    {
     "data": {
      "text/plain": [
       "1"
      ]
     },
     "execution_count": 31,
     "metadata": {},
     "output_type": "execute_result"
    }
   ],
   "source": [
    "len(data[data['Height']<100])"
   ]
  },
  {
   "cell_type": "code",
   "execution_count": 32,
   "id": "76bd33d4",
   "metadata": {},
   "outputs": [
    {
     "data": {
      "text/plain": [
       "(1829, 44)"
      ]
     },
     "execution_count": 32,
     "metadata": {},
     "output_type": "execute_result"
    }
   ],
   "source": [
    "indexAge = data[ (data['Height'] < 100) ].index\n",
    "data.drop(indexAge , inplace=True)\n",
    "data.shape"
   ]
  },
  {
   "cell_type": "code",
   "execution_count": 33,
   "id": "1d9874f7",
   "metadata": {},
   "outputs": [
    {
     "data": {
      "text/plain": [
       "<AxesSubplot: ylabel='Height'>"
      ]
     },
     "execution_count": 33,
     "metadata": {},
     "output_type": "execute_result"
    },
    {
     "data": {
      "image/png": "[encoded data removed]",
      "text/plain": [
       "<Figure size 640x480 with 1 Axes>"
      ]
     },
     "metadata": {},
     "output_type": "display_data"
    }
   ],
   "source": [
    "sns.boxplot(y = data['Height'])"
   ]
  },
  {
   "cell_type": "code",
   "execution_count": 35,
   "id": "b7edc69b",
   "metadata": {},
   "outputs": [
    {
     "data": {
      "text/html": [
       "<div>\n",
       "<style scoped>\n",
       "    .dataframe tbody tr th:only-of-type {\n",
       "        vertical-align: middle;\n",
       "    }\n",
       "\n",
       "    .dataframe tbody tr th {\n",
       "        vertical-align: top;\n",
       "    }\n",
       "\n",
       "    .dataframe thead th {\n",
       "        text-align: right;\n",
       "    }\n",
       "</style>\n",
       "<table border=\"1\" class=\"dataframe\">\n",
       "  <thead>\n",
       "    <tr style=\"text-align: right;\">\n",
       "      <th></th>\n",
       "      <th>Age</th>\n",
       "      <th>Height</th>\n",
       "      <th>Weight</th>\n",
       "      <th>Dependant</th>\n",
       "      <th>Week_Days_sleep_time_avg</th>\n",
       "      <th>Weekends_sleep_time_avg</th>\n",
       "    </tr>\n",
       "  </thead>\n",
       "  <tbody>\n",
       "    <tr>\n",
       "      <th>count</th>\n",
       "      <td>1829.000000</td>\n",
       "      <td>1829.000000</td>\n",
       "      <td>1829.000000</td>\n",
       "      <td>1829.000000</td>\n",
       "      <td>1829.000000</td>\n",
       "      <td>1829.000000</td>\n",
       "    </tr>\n",
       "    <tr>\n",
       "      <th>mean</th>\n",
       "      <td>48.671952</td>\n",
       "      <td>170.711488</td>\n",
       "      <td>69.623127</td>\n",
       "      <td>21.946419</td>\n",
       "      <td>9.390063</td>\n",
       "      <td>8.838218</td>\n",
       "    </tr>\n",
       "    <tr>\n",
       "      <th>std</th>\n",
       "      <td>21.305802</td>\n",
       "      <td>10.297279</td>\n",
       "      <td>13.305934</td>\n",
       "      <td>841.727688</td>\n",
       "      <td>6.052092</td>\n",
       "      <td>3.592376</td>\n",
       "    </tr>\n",
       "    <tr>\n",
       "      <th>min</th>\n",
       "      <td>18.000000</td>\n",
       "      <td>121.920000</td>\n",
       "      <td>38.000000</td>\n",
       "      <td>1.000000</td>\n",
       "      <td>0.000000</td>\n",
       "      <td>0.000000</td>\n",
       "    </tr>\n",
       "    <tr>\n",
       "      <th>25%</th>\n",
       "      <td>28.000000</td>\n",
       "      <td>165.000000</td>\n",
       "      <td>59.000000</td>\n",
       "      <td>1.000000</td>\n",
       "      <td>8.000000</td>\n",
       "      <td>8.000000</td>\n",
       "    </tr>\n",
       "    <tr>\n",
       "      <th>50%</th>\n",
       "      <td>46.000000</td>\n",
       "      <td>170.180000</td>\n",
       "      <td>67.000000</td>\n",
       "      <td>2.000000</td>\n",
       "      <td>9.000000</td>\n",
       "      <td>9.000000</td>\n",
       "    </tr>\n",
       "    <tr>\n",
       "      <th>75%</th>\n",
       "      <td>67.000000</td>\n",
       "      <td>177.800000</td>\n",
       "      <td>79.000000</td>\n",
       "      <td>3.000000</td>\n",
       "      <td>9.000000</td>\n",
       "      <td>9.000000</td>\n",
       "    </tr>\n",
       "    <tr>\n",
       "      <th>max</th>\n",
       "      <td>89.000000</td>\n",
       "      <td>210.820000</td>\n",
       "      <td>109.000000</td>\n",
       "      <td>36000.000000</td>\n",
       "      <td>95.000000</td>\n",
       "      <td>80.000000</td>\n",
       "    </tr>\n",
       "  </tbody>\n",
       "</table>\n",
       "</div>"
      ],
      "text/plain": [
       "               Age       Height       Weight     Dependant  \\\n",
       "count  1829.000000  1829.000000  1829.000000   1829.000000   \n",
       "mean     48.671952   170.711488    69.623127     21.946419   \n",
       "std      21.305802    10.297279    13.305934    841.727688   \n",
       "min      18.000000   121.920000    38.000000      1.000000   \n",
       "25%      28.000000   165.000000    59.000000      1.000000   \n",
       "50%      46.000000   170.180000    67.000000      2.000000   \n",
       "75%      67.000000   177.800000    79.000000      3.000000   \n",
       "max      89.000000   210.820000   109.000000  36000.000000   \n",
       "\n",
       "       Week_Days_sleep_time_avg  Weekends_sleep_time_avg  \n",
       "count               1829.000000              1829.000000  \n",
       "mean                   9.390063                 8.838218  \n",
       "std                    6.052092                 3.592376  \n",
       "min                    0.000000                 0.000000  \n",
       "25%                    8.000000                 8.000000  \n",
       "50%                    9.000000                 9.000000  \n",
       "75%                    9.000000                 9.000000  \n",
       "max                   95.000000                80.000000  "
      ]
     },
     "execution_count": 35,
     "metadata": {},
     "output_type": "execute_result"
    }
   ],
   "source": [
    "data.describe()"
   ]
  },
  {
   "cell_type": "code",
   "execution_count": 36,
   "id": "6f798690",
   "metadata": {},
   "outputs": [
    {
     "data": {
      "text/plain": [
       "<AxesSubplot: ylabel='Week_Days_sleep_time_avg'>"
      ]
     },
     "execution_count": 36,
     "metadata": {},
     "output_type": "execute_result"
    },
    {
     "data": {
      "image/png": "[encoded data removed]",
      "text/plain": [
       "<Figure size 640x480 with 1 Axes>"
      ]
     },
     "metadata": {},
     "output_type": "display_data"
    }
   ],
   "source": [
    "sns.boxplot(y = data['Week_Days_sleep_time_avg'])"
   ]
  },
  {
   "cell_type": "code",
   "execution_count": 39,
   "id": "d1adf68c",
   "metadata": {},
   "outputs": [
    {
     "data": {
      "text/plain": [
       "54"
      ]
     },
     "execution_count": 39,
     "metadata": {},
     "output_type": "execute_result"
    }
   ],
   "source": [
    "len(data[data['Week_Days_sleep_time_avg']>24])"
   ]
  },
  {
   "cell_type": "code",
   "execution_count": 40,
   "id": "fde7bbfb",
   "metadata": {},
   "outputs": [
    {
     "name": "stderr",
     "output_type": "stream",
     "text": [
      "C:\\Users\\ayan1\\AppData\\Local\\Temp\\ipykernel_4208\\1105505023.py:4: SettingWithCopyWarning: \n",
      "A value is trying to be set on a copy of a slice from a DataFrame\n",
      "\n",
      "See the caveats in the documentation: https://pandas.pydata.org/pandas-docs/stable/user_guide/indexing.html#returning-a-view-versus-a-copy\n",
      "  data['Week_Days_sleep_time_avg'][ind] = (data['Week_Days_sleep_time_avg'][ind]) / 5\n"
     ]
    }
   ],
   "source": [
    "#Fix outlier\n",
    "for ind in data.index:\n",
    "    if (data['Week_Days_sleep_time_avg'][ind] > 24):\n",
    "        data['Week_Days_sleep_time_avg'][ind] = (data['Week_Days_sleep_time_avg'][ind]) / 5"
   ]
  },
  {
   "cell_type": "code",
   "execution_count": 42,
   "id": "aa035e05",
   "metadata": {},
   "outputs": [
    {
     "data": {
      "text/plain": [
       "<AxesSubplot: ylabel='Week_Days_sleep_time_avg'>"
      ]
     },
     "execution_count": 42,
     "metadata": {},
     "output_type": "execute_result"
    },
    {
     "data": {
      "image/png": "[encoded data removed]",
      "text/plain": [
       "<Figure size 640x480 with 1 Axes>"
      ]
     },
     "metadata": {},
     "output_type": "display_data"
    }
   ],
   "source": [
    "len(data[data['Week_Days_sleep_time_avg']>24])\n",
    "sns.boxplot(y = data['Week_Days_sleep_time_avg'])"
   ]
  },
  {
   "cell_type": "code",
   "execution_count": 45,
   "id": "d587e334",
   "metadata": {},
   "outputs": [
    {
     "data": {
      "text/plain": [
       "17"
      ]
     },
     "execution_count": 45,
     "metadata": {},
     "output_type": "execute_result"
    }
   ],
   "source": [
    "len(data[data['Week_Days_sleep_time_avg']<5])"
   ]
  },
  {
   "cell_type": "code",
   "execution_count": 46,
   "id": "08bfd821",
   "metadata": {},
   "outputs": [
    {
     "data": {
      "text/plain": [
       "(1812, 44)"
      ]
     },
     "execution_count": 46,
     "metadata": {},
     "output_type": "execute_result"
    }
   ],
   "source": [
    "indexAge = data[ (data['Week_Days_sleep_time_avg'] < 5) ].index\n",
    "data.drop(indexAge , inplace=True)\n",
    "data.shape"
   ]
  },
  {
   "cell_type": "code",
   "execution_count": 48,
   "id": "9334082c",
   "metadata": {},
   "outputs": [
    {
     "data": {
      "text/plain": [
       "(1808, 44)"
      ]
     },
     "execution_count": 48,
     "metadata": {},
     "output_type": "execute_result"
    }
   ],
   "source": [
    "indexAge = data[ (data['Week_Days_sleep_time_avg'] > 12) ].index\n",
    "data.drop(indexAge , inplace=True)\n",
    "data.shape"
   ]
  },
  {
   "cell_type": "code",
   "execution_count": 52,
   "id": "128f407d",
   "metadata": {},
   "outputs": [
    {
     "data": {
      "text/plain": [
       "<AxesSubplot: ylabel='Weekends_sleep_time_avg'>"
      ]
     },
     "execution_count": 52,
     "metadata": {},
     "output_type": "execute_result"
    },
    {
     "data": {
      "image/png": "[encoded data removed]",
      "text/plain": [
       "<Figure size 640x480 with 1 Axes>"
      ]
     },
     "metadata": {},
     "output_type": "display_data"
    }
   ],
   "source": [
    "sns.boxplot(y = data['Weekends_sleep_time_avg'])"
   ]
  },
  {
   "cell_type": "code",
   "execution_count": 57,
   "id": "53bc916c",
   "metadata": {},
   "outputs": [
    {
     "data": {
      "text/plain": [
       "2"
      ]
     },
     "execution_count": 57,
     "metadata": {},
     "output_type": "execute_result"
    }
   ],
   "source": [
    "len(data[data['Weekends_sleep_time_avg']>24])"
   ]
  },
  {
   "cell_type": "code",
   "execution_count": 58,
   "id": "805703f6",
   "metadata": {},
   "outputs": [
    {
     "name": "stderr",
     "output_type": "stream",
     "text": [
      "C:\\Users\\ayan1\\AppData\\Local\\Temp\\ipykernel_4208\\1124068203.py:4: SettingWithCopyWarning: \n",
      "A value is trying to be set on a copy of a slice from a DataFrame\n",
      "\n",
      "See the caveats in the documentation: https://pandas.pydata.org/pandas-docs/stable/user_guide/indexing.html#returning-a-view-versus-a-copy\n",
      "  data['Weekends_sleep_time_avg'][ind] = (data['Weekends_sleep_time_avg'][ind]) / 2\n"
     ]
    }
   ],
   "source": [
    "#Fix outlier\n",
    "for ind in data.index:\n",
    "    if (data['Weekends_sleep_time_avg'][ind] > 24):\n",
    "        data['Weekends_sleep_time_avg'][ind] = (data['Weekends_sleep_time_avg'][ind]) / 2"
   ]
  },
  {
   "cell_type": "code",
   "execution_count": 59,
   "id": "6bfdddec",
   "metadata": {},
   "outputs": [
    {
     "data": {
      "text/plain": [
       "0"
      ]
     },
     "execution_count": 59,
     "metadata": {},
     "output_type": "execute_result"
    }
   ],
   "source": [
    "len(data[data['Weekends_sleep_time_avg']>24])"
   ]
  },
  {
   "cell_type": "code",
   "execution_count": 62,
   "id": "d0d1ae08",
   "metadata": {},
   "outputs": [
    {
     "data": {
      "text/plain": [
       "<AxesSubplot: ylabel='Weekends_sleep_time_avg'>"
      ]
     },
     "execution_count": 62,
     "metadata": {},
     "output_type": "execute_result"
    },
    {
     "data": {
      "image/png": "[encoded data removed]",
      "text/plain": [
       "<Figure size 640x480 with 1 Axes>"
      ]
     },
     "metadata": {},
     "output_type": "display_data"
    }
   ],
   "source": [
    "sns.boxplot(y = data['Weekends_sleep_time_avg'])"
   ]
  },
  {
   "cell_type": "code",
   "execution_count": 64,
   "id": "cbcaf06e",
   "metadata": {},
   "outputs": [
    {
     "data": {
      "text/plain": [
       "16"
      ]
     },
     "execution_count": 64,
     "metadata": {},
     "output_type": "execute_result"
    }
   ],
   "source": [
    "len(data[data['Weekends_sleep_time_avg']>16])"
   ]
  },
  {
   "cell_type": "code",
   "execution_count": 65,
   "id": "d1e58c83",
   "metadata": {},
   "outputs": [
    {
     "data": {
      "text/plain": [
       "(1792, 44)"
      ]
     },
     "execution_count": 65,
     "metadata": {},
     "output_type": "execute_result"
    }
   ],
   "source": [
    "indexAge = data[ (data['Weekends_sleep_time_avg'] > 16) ].index\n",
    "data.drop(indexAge , inplace=True)\n",
    "data.shape"
   ]
  },
  {
   "cell_type": "code",
   "execution_count": 66,
   "id": "9e7c6577",
   "metadata": {},
   "outputs": [
    {
     "data": {
      "text/plain": [
       "<AxesSubplot: ylabel='Weekends_sleep_time_avg'>"
      ]
     },
     "execution_count": 66,
     "metadata": {},
     "output_type": "execute_result"
    },
    {
     "data": {
      "image/png": "[encoded data removed]",
      "text/plain": [
       "<Figure size 640x480 with 1 Axes>"
      ]
     },
     "metadata": {},
     "output_type": "display_data"
    }
   ],
   "source": [
    "sns.boxplot(y = data['Weekends_sleep_time_avg'])"
   ]
  },
  {
   "cell_type": "code",
   "execution_count": 67,
   "id": "d55c6b01",
   "metadata": {},
   "outputs": [
    {
     "data": {
      "text/plain": [
       "14"
      ]
     },
     "execution_count": 67,
     "metadata": {},
     "output_type": "execute_result"
    }
   ],
   "source": [
    "len(data[data['Weekends_sleep_time_avg']<5])"
   ]
  },
  {
   "cell_type": "code",
   "execution_count": 68,
   "id": "fecd94e5",
   "metadata": {},
   "outputs": [
    {
     "data": {
      "text/plain": [
       "(1778, 44)"
      ]
     },
     "execution_count": 68,
     "metadata": {},
     "output_type": "execute_result"
    }
   ],
   "source": [
    "indexAge = data[ (data['Weekends_sleep_time_avg'] < 5) ].index\n",
    "data.drop(indexAge , inplace=True)\n",
    "data.shape"
   ]
  },
  {
   "cell_type": "code",
   "execution_count": 69,
   "id": "8bdd7a3e",
   "metadata": {},
   "outputs": [
    {
     "data": {
      "text/plain": [
       "<AxesSubplot: ylabel='Weekends_sleep_time_avg'>"
      ]
     },
     "execution_count": 69,
     "metadata": {},
     "output_type": "execute_result"
    },
    {
     "data": {
      "image/png": "[encoded data removed]",
      "text/plain": [
       "<Figure size 640x480 with 1 Axes>"
      ]
     },
     "metadata": {},
     "output_type": "display_data"
    }
   ],
   "source": [
    "sns.boxplot(y = data['Weekends_sleep_time_avg'])"
   ]
  },
  {
   "cell_type": "code",
   "execution_count": 71,
   "id": "102fcb6b",
   "metadata": {},
   "outputs": [],
   "source": [
    "data.to_csv(\"survey.csv\")"
   ]
  },
  {
   "cell_type": "code",
   "execution_count": 41,
   "id": "60ec1bd9",
   "metadata": {},
   "outputs": [],
   "source": [
    "data = pd.read_csv(\"survey.csv\")"
   ]
  },
  {
   "cell_type": "code",
   "execution_count": 42,
   "id": "0c074627",
   "metadata": {},
   "outputs": [
    {
     "data": {
      "text/html": [
       "<div>\n",
       "<style scoped>\n",
       "    .dataframe tbody tr th:only-of-type {\n",
       "        vertical-align: middle;\n",
       "    }\n",
       "\n",
       "    .dataframe tbody tr th {\n",
       "        vertical-align: top;\n",
       "    }\n",
       "\n",
       "    .dataframe thead th {\n",
       "        text-align: right;\n",
       "    }\n",
       "</style>\n",
       "<table border=\"1\" class=\"dataframe\">\n",
       "  <thead>\n",
       "    <tr style=\"text-align: right;\">\n",
       "      <th></th>\n",
       "      <th>Age</th>\n",
       "      <th>Height</th>\n",
       "      <th>Weight</th>\n",
       "      <th>Dependant</th>\n",
       "      <th>Week_Days_sleep_time_avg</th>\n",
       "      <th>Weekends_sleep_time_avg</th>\n",
       "    </tr>\n",
       "  </thead>\n",
       "  <tbody>\n",
       "    <tr>\n",
       "      <th>count</th>\n",
       "      <td>1778.000000</td>\n",
       "      <td>1778.000000</td>\n",
       "      <td>1778.000000</td>\n",
       "      <td>1778.000000</td>\n",
       "      <td>1778.000000</td>\n",
       "      <td>1778.000000</td>\n",
       "    </tr>\n",
       "    <tr>\n",
       "      <th>mean</th>\n",
       "      <td>49.219910</td>\n",
       "      <td>170.911881</td>\n",
       "      <td>69.685996</td>\n",
       "      <td>22.435321</td>\n",
       "      <td>8.483928</td>\n",
       "      <td>8.680259</td>\n",
       "    </tr>\n",
       "    <tr>\n",
       "      <th>std</th>\n",
       "      <td>21.316795</td>\n",
       "      <td>10.089351</td>\n",
       "      <td>13.321339</td>\n",
       "      <td>853.712953</td>\n",
       "      <td>1.154645</td>\n",
       "      <td>1.394978</td>\n",
       "    </tr>\n",
       "    <tr>\n",
       "      <th>min</th>\n",
       "      <td>18.000000</td>\n",
       "      <td>121.920000</td>\n",
       "      <td>38.000000</td>\n",
       "      <td>1.000000</td>\n",
       "      <td>5.000000</td>\n",
       "      <td>5.000000</td>\n",
       "    </tr>\n",
       "    <tr>\n",
       "      <th>25%</th>\n",
       "      <td>29.000000</td>\n",
       "      <td>165.100000</td>\n",
       "      <td>59.000000</td>\n",
       "      <td>1.000000</td>\n",
       "      <td>8.000000</td>\n",
       "      <td>8.000000</td>\n",
       "    </tr>\n",
       "    <tr>\n",
       "      <th>50%</th>\n",
       "      <td>47.000000</td>\n",
       "      <td>170.180000</td>\n",
       "      <td>67.000000</td>\n",
       "      <td>2.000000</td>\n",
       "      <td>9.000000</td>\n",
       "      <td>9.000000</td>\n",
       "    </tr>\n",
       "    <tr>\n",
       "      <th>75%</th>\n",
       "      <td>67.000000</td>\n",
       "      <td>177.800000</td>\n",
       "      <td>80.000000</td>\n",
       "      <td>3.000000</td>\n",
       "      <td>9.000000</td>\n",
       "      <td>9.000000</td>\n",
       "    </tr>\n",
       "    <tr>\n",
       "      <th>max</th>\n",
       "      <td>89.000000</td>\n",
       "      <td>210.820000</td>\n",
       "      <td>109.000000</td>\n",
       "      <td>36000.000000</td>\n",
       "      <td>12.000000</td>\n",
       "      <td>16.000000</td>\n",
       "    </tr>\n",
       "  </tbody>\n",
       "</table>\n",
       "</div>"
      ],
      "text/plain": [
       "               Age       Height       Weight     Dependant  \\\n",
       "count  1778.000000  1778.000000  1778.000000   1778.000000   \n",
       "mean     49.219910   170.911881    69.685996     22.435321   \n",
       "std      21.316795    10.089351    13.321339    853.712953   \n",
       "min      18.000000   121.920000    38.000000      1.000000   \n",
       "25%      29.000000   165.100000    59.000000      1.000000   \n",
       "50%      47.000000   170.180000    67.000000      2.000000   \n",
       "75%      67.000000   177.800000    80.000000      3.000000   \n",
       "max      89.000000   210.820000   109.000000  36000.000000   \n",
       "\n",
       "       Week_Days_sleep_time_avg  Weekends_sleep_time_avg  \n",
       "count               1778.000000              1778.000000  \n",
       "mean                   8.483928                 8.680259  \n",
       "std                    1.154645                 1.394978  \n",
       "min                    5.000000                 5.000000  \n",
       "25%                    8.000000                 8.000000  \n",
       "50%                    9.000000                 9.000000  \n",
       "75%                    9.000000                 9.000000  \n",
       "max                   12.000000                16.000000  "
      ]
     },
     "execution_count": 42,
     "metadata": {},
     "output_type": "execute_result"
    }
   ],
   "source": [
    "data.describe()"
   ]
  },
  {
   "cell_type": "code",
   "execution_count": 43,
   "id": "6515704b",
   "metadata": {},
   "outputs": [
    {
     "data": {
      "text/plain": [
       "Index(['Age', 'Height', 'Weight', 'Gender', 'City', 'Educational Level',\n",
       "       'Economic Status', 'Dependant', 'Is_Employed', 'Is_Medically_Insured',\n",
       "       'Visit_Gym', 'Duration of daily exercise', 'Duration of daily walking',\n",
       "       'Smoking Habit', 'Habit of Snus', 'Habit of Paan-Masala',\n",
       "       'Habit of Alcohol', 'The habit of Energy Drinks or Sweet Beverages',\n",
       "       'Mobile Application for Activity Tracking',\n",
       "       'Mobile Application for Diet Tracking', 'Social Participation Type',\n",
       "       'Social Participation duration', 'The habit of Vegetables',\n",
       "       'Habit of Fruits', 'Habit of Junk Fried Foods', 'Habit of Sweets',\n",
       "       'Habit of Red Meat', 'Habit of Taking BBQ',\n",
       "       'Habit of Taking discritionary foods', 'Week_Days_sleep_time_avg',\n",
       "       'Weekends_sleep_time_avg', 'Existing health problems',\n",
       "       'Hospitalized in a year', 'Regular physician consultation',\n",
       "       'Negative lifestyle', 'Skipping Diet', 'Food-type',\n",
       "       'WFH due to COVID-19', 'Sedentary lifestyle due to COVID-19',\n",
       "       'Unhealthy food habit due to COVID-19', 'Addiction due to COVID',\n",
       "       'Depression'],\n",
       "      dtype='object')"
      ]
     },
     "execution_count": 43,
     "metadata": {},
     "output_type": "execute_result"
    }
   ],
   "source": [
    "data.columns"
   ]
  },
  {
   "cell_type": "code",
   "execution_count": 44,
   "id": "5695a6f1",
   "metadata": {},
   "outputs": [
    {
     "data": {
      "text/plain": [
       "Age                                                int64\n",
       "Height                                           float64\n",
       "Weight                                           float64\n",
       "Gender                                            object\n",
       "City                                              object\n",
       "Educational Level                                 object\n",
       "Economic Status                                   object\n",
       "Dependant                                          int64\n",
       "Is_Employed                                       object\n",
       "Is_Medically_Insured                              object\n",
       "Visit_Gym                                         object\n",
       "Duration of daily exercise                        object\n",
       "Duration of daily walking                         object\n",
       "Smoking Habit                                     object\n",
       "Habit of Snus                                     object\n",
       "Habit of Paan-Masala                              object\n",
       "Habit of Alcohol                                  object\n",
       "The habit of Energy Drinks or Sweet Beverages     object\n",
       "Mobile Application for Activity Tracking          object\n",
       "Mobile Application for Diet Tracking              object\n",
       "Social Participation Type                         object\n",
       "Social Participation duration                     object\n",
       "The habit of Vegetables                           object\n",
       "Habit of Fruits                                   object\n",
       "Habit of Junk Fried Foods                         object\n",
       "Habit of Sweets                                   object\n",
       "Habit of Red Meat                                 object\n",
       "Habit of Taking BBQ                               object\n",
       "Habit of Taking discritionary foods               object\n",
       "Week_Days_sleep_time_avg                         float64\n",
       "Weekends_sleep_time_avg                          float64\n",
       "Existing health problems                          object\n",
       "Hospitalized in a year                            object\n",
       "Regular physician consultation                    object\n",
       "Negative lifestyle                                object\n",
       "Skipping Diet                                     object\n",
       "Food-type                                         object\n",
       "WFH due to COVID-19                               object\n",
       "Sedentary lifestyle due to COVID-19               object\n",
       "Unhealthy food habit due to COVID-19              object\n",
       "Addiction due to COVID                            object\n",
       "Depression                                        object\n",
       "dtype: object"
      ]
     },
     "execution_count": 44,
     "metadata": {},
     "output_type": "execute_result"
    }
   ],
   "source": [
    "data.dtypes"
   ]
  },
  {
   "cell_type": "code",
   "execution_count": 45,
   "id": "8608a295",
   "metadata": {},
   "outputs": [
    {
     "data": {
      "text/plain": [
       "<AxesSubplot: ylabel='Dependant'>"
      ]
     },
     "execution_count": 45,
     "metadata": {},
     "output_type": "execute_result"
    },
    {
     "data": {
      "image/png": "[encoded data removed]",
      "text/plain": [
       "<Figure size 640x480 with 1 Axes>"
      ]
     },
     "metadata": {},
     "output_type": "display_data"
    }
   ],
   "source": [
    "sns.boxplot(y = data['Dependant'])"
   ]
  },
  {
   "cell_type": "code",
   "execution_count": 46,
   "id": "e5f55e59",
   "metadata": {},
   "outputs": [
    {
     "data": {
      "text/plain": [
       "11"
      ]
     },
     "execution_count": 46,
     "metadata": {},
     "output_type": "execute_result"
    }
   ],
   "source": [
    "len(data[data['Dependant']>5])"
   ]
  },
  {
   "cell_type": "code",
   "execution_count": 47,
   "id": "6f9c29c4",
   "metadata": {},
   "outputs": [
    {
     "data": {
      "text/plain": [
       "(1767, 42)"
      ]
     },
     "execution_count": 47,
     "metadata": {},
     "output_type": "execute_result"
    }
   ],
   "source": [
    "indexAge = data[ (data['Dependant'] > 5) ].index\n",
    "data.drop(indexAge , inplace=True)\n",
    "data.shape"
   ]
  },
  {
   "cell_type": "code",
   "execution_count": 48,
   "id": "4ebf8ed6",
   "metadata": {},
   "outputs": [
    {
     "data": {
      "text/plain": [
       "<AxesSubplot: ylabel='Dependant'>"
      ]
     },
     "execution_count": 48,
     "metadata": {},
     "output_type": "execute_result"
    },
    {
     "data": {
      "image/png": "[encoded data removed]",
      "text/plain": [
       "<Figure size 640x480 with 1 Axes>"
      ]
     },
     "metadata": {},
     "output_type": "display_data"
    }
   ],
   "source": [
    "sns.boxplot(y = data['Dependant'])"
   ]
  },
  {
   "cell_type": "code",
   "execution_count": 49,
   "id": "e2cf7f04",
   "metadata": {},
   "outputs": [
    {
     "name": "stderr",
     "output_type": "stream",
     "text": [
      "C:\\Users\\ayan1\\AppData\\Local\\Temp\\ipykernel_10224\\2627137660.py:1: FutureWarning: The default value of numeric_only in DataFrame.corr is deprecated. In a future version, it will default to False. Select only valid columns or specify the value of numeric_only to silence this warning.\n",
      "  data.corr()\n"
     ]
    },
    {
     "data": {
      "text/html": [
       "<div>\n",
       "<style scoped>\n",
       "    .dataframe tbody tr th:only-of-type {\n",
       "        vertical-align: middle;\n",
       "    }\n",
       "\n",
       "    .dataframe tbody tr th {\n",
       "        vertical-align: top;\n",
       "    }\n",
       "\n",
       "    .dataframe thead th {\n",
       "        text-align: right;\n",
       "    }\n",
       "</style>\n",
       "<table border=\"1\" class=\"dataframe\">\n",
       "  <thead>\n",
       "    <tr style=\"text-align: right;\">\n",
       "      <th></th>\n",
       "      <th>Age</th>\n",
       "      <th>Height</th>\n",
       "      <th>Weight</th>\n",
       "      <th>Dependant</th>\n",
       "      <th>Week_Days_sleep_time_avg</th>\n",
       "      <th>Weekends_sleep_time_avg</th>\n",
       "    </tr>\n",
       "  </thead>\n",
       "  <tbody>\n",
       "    <tr>\n",
       "      <th>Age</th>\n",
       "      <td>1.000000</td>\n",
       "      <td>-0.359110</td>\n",
       "      <td>-0.523811</td>\n",
       "      <td>0.206032</td>\n",
       "      <td>0.186580</td>\n",
       "      <td>-0.016921</td>\n",
       "    </tr>\n",
       "    <tr>\n",
       "      <th>Height</th>\n",
       "      <td>-0.359110</td>\n",
       "      <td>1.000000</td>\n",
       "      <td>0.821705</td>\n",
       "      <td>-0.242115</td>\n",
       "      <td>0.110222</td>\n",
       "      <td>-0.032814</td>\n",
       "    </tr>\n",
       "    <tr>\n",
       "      <th>Weight</th>\n",
       "      <td>-0.523811</td>\n",
       "      <td>0.821705</td>\n",
       "      <td>1.000000</td>\n",
       "      <td>-0.278346</td>\n",
       "      <td>0.041326</td>\n",
       "      <td>-0.040845</td>\n",
       "    </tr>\n",
       "    <tr>\n",
       "      <th>Dependant</th>\n",
       "      <td>0.206032</td>\n",
       "      <td>-0.242115</td>\n",
       "      <td>-0.278346</td>\n",
       "      <td>1.000000</td>\n",
       "      <td>-0.011617</td>\n",
       "      <td>-0.003146</td>\n",
       "    </tr>\n",
       "    <tr>\n",
       "      <th>Week_Days_sleep_time_avg</th>\n",
       "      <td>0.186580</td>\n",
       "      <td>0.110222</td>\n",
       "      <td>0.041326</td>\n",
       "      <td>-0.011617</td>\n",
       "      <td>1.000000</td>\n",
       "      <td>0.308092</td>\n",
       "    </tr>\n",
       "    <tr>\n",
       "      <th>Weekends_sleep_time_avg</th>\n",
       "      <td>-0.016921</td>\n",
       "      <td>-0.032814</td>\n",
       "      <td>-0.040845</td>\n",
       "      <td>-0.003146</td>\n",
       "      <td>0.308092</td>\n",
       "      <td>1.000000</td>\n",
       "    </tr>\n",
       "  </tbody>\n",
       "</table>\n",
       "</div>"
      ],
      "text/plain": [
       "                               Age    Height    Weight  Dependant  \\\n",
       "Age                       1.000000 -0.359110 -0.523811   0.206032   \n",
       "Height                   -0.359110  1.000000  0.821705  -0.242115   \n",
       "Weight                   -0.523811  0.821705  1.000000  -0.278346   \n",
       "Dependant                 0.206032 -0.242115 -0.278346   1.000000   \n",
       "Week_Days_sleep_time_avg  0.186580  0.110222  0.041326  -0.011617   \n",
       "Weekends_sleep_time_avg  -0.016921 -0.032814 -0.040845  -0.003146   \n",
       "\n",
       "                          Week_Days_sleep_time_avg  Weekends_sleep_time_avg  \n",
       "Age                                       0.186580                -0.016921  \n",
       "Height                                    0.110222                -0.032814  \n",
       "Weight                                    0.041326                -0.040845  \n",
       "Dependant                                -0.011617                -0.003146  \n",
       "Week_Days_sleep_time_avg                  1.000000                 0.308092  \n",
       "Weekends_sleep_time_avg                   0.308092                 1.000000  "
      ]
     },
     "execution_count": 49,
     "metadata": {},
     "output_type": "execute_result"
    }
   ],
   "source": [
    "data.corr()"
   ]
  },
  {
   "cell_type": "code",
   "execution_count": 50,
   "id": "78a1e212",
   "metadata": {},
   "outputs": [
    {
     "data": {
      "text/plain": [
       "(1767, 42)"
      ]
     },
     "execution_count": 50,
     "metadata": {},
     "output_type": "execute_result"
    }
   ],
   "source": [
    "data.shape"
   ]
  },
  {
   "cell_type": "code",
   "execution_count": 51,
   "id": "4b3ae8fb",
   "metadata": {},
   "outputs": [],
   "source": [
    "del data['City']"
   ]
  },
  {
   "cell_type": "code",
   "execution_count": 52,
   "id": "d9cc93a7",
   "metadata": {},
   "outputs": [
    {
     "data": {
      "text/plain": [
       "(1767, 41)"
      ]
     },
     "execution_count": 52,
     "metadata": {},
     "output_type": "execute_result"
    }
   ],
   "source": [
    "data.shape"
   ]
  },
  {
   "cell_type": "code",
   "execution_count": 53,
   "id": "67074e58",
   "metadata": {},
   "outputs": [
    {
     "data": {
      "text/html": [
       "<div>\n",
       "<style scoped>\n",
       "    .dataframe tbody tr th:only-of-type {\n",
       "        vertical-align: middle;\n",
       "    }\n",
       "\n",
       "    .dataframe tbody tr th {\n",
       "        vertical-align: top;\n",
       "    }\n",
       "\n",
       "    .dataframe thead th {\n",
       "        text-align: right;\n",
       "    }\n",
       "</style>\n",
       "<table border=\"1\" class=\"dataframe\">\n",
       "  <thead>\n",
       "    <tr style=\"text-align: right;\">\n",
       "      <th></th>\n",
       "      <th>Gender</th>\n",
       "      <th>Educational Level</th>\n",
       "      <th>Economic Status</th>\n",
       "      <th>Is_Employed</th>\n",
       "      <th>Is_Medically_Insured</th>\n",
       "      <th>Visit_Gym</th>\n",
       "      <th>Duration of daily exercise</th>\n",
       "      <th>Duration of daily walking</th>\n",
       "      <th>Smoking Habit</th>\n",
       "      <th>Habit of Snus</th>\n",
       "      <th>...</th>\n",
       "      <th>Hospitalized in a year</th>\n",
       "      <th>Regular physician consultation</th>\n",
       "      <th>Negative lifestyle</th>\n",
       "      <th>Skipping Diet</th>\n",
       "      <th>Food-type</th>\n",
       "      <th>WFH due to COVID-19</th>\n",
       "      <th>Sedentary lifestyle due to COVID-19</th>\n",
       "      <th>Unhealthy food habit due to COVID-19</th>\n",
       "      <th>Addiction due to COVID</th>\n",
       "      <th>Depression</th>\n",
       "    </tr>\n",
       "  </thead>\n",
       "  <tbody>\n",
       "    <tr>\n",
       "      <th>0</th>\n",
       "      <td>Male</td>\n",
       "      <td>Bachelors</td>\n",
       "      <td>Upper Middle Class</td>\n",
       "      <td>Full-Time</td>\n",
       "      <td>Yes</td>\n",
       "      <td>No</td>\n",
       "      <td>&lt; 30 mins</td>\n",
       "      <td>&lt; 1 Km.</td>\n",
       "      <td>Never</td>\n",
       "      <td>Never</td>\n",
       "      <td>...</td>\n",
       "      <td>Yes</td>\n",
       "      <td>No</td>\n",
       "      <td>Yes</td>\n",
       "      <td>Occasionally</td>\n",
       "      <td>Vegetarian</td>\n",
       "      <td>Yes</td>\n",
       "      <td>Yes</td>\n",
       "      <td>No</td>\n",
       "      <td>No</td>\n",
       "      <td>No</td>\n",
       "    </tr>\n",
       "    <tr>\n",
       "      <th>1</th>\n",
       "      <td>Male</td>\n",
       "      <td>Masters</td>\n",
       "      <td>Upper Middle Class</td>\n",
       "      <td>Unemployed</td>\n",
       "      <td>No</td>\n",
       "      <td>Yes</td>\n",
       "      <td>1 hr - 1.5 hrs</td>\n",
       "      <td>1 Km - 2 Km.</td>\n",
       "      <td>Never</td>\n",
       "      <td>Never</td>\n",
       "      <td>...</td>\n",
       "      <td>No</td>\n",
       "      <td>No</td>\n",
       "      <td>Yes</td>\n",
       "      <td>Never</td>\n",
       "      <td>Vegetarian</td>\n",
       "      <td>Yes</td>\n",
       "      <td>Yes</td>\n",
       "      <td>No</td>\n",
       "      <td>No</td>\n",
       "      <td>Yes</td>\n",
       "    </tr>\n",
       "    <tr>\n",
       "      <th>2</th>\n",
       "      <td>Male</td>\n",
       "      <td>Above</td>\n",
       "      <td>Lower Middle Class</td>\n",
       "      <td>Full-Time</td>\n",
       "      <td>Yes</td>\n",
       "      <td>No</td>\n",
       "      <td>&lt; 30 mins</td>\n",
       "      <td>2 Km - 3 Km.</td>\n",
       "      <td>Occasionally</td>\n",
       "      <td>Occasionally</td>\n",
       "      <td>...</td>\n",
       "      <td>No</td>\n",
       "      <td>No</td>\n",
       "      <td>Yes</td>\n",
       "      <td>Occasionally</td>\n",
       "      <td>Non-Veg</td>\n",
       "      <td>Yes</td>\n",
       "      <td>No</td>\n",
       "      <td>No</td>\n",
       "      <td>No</td>\n",
       "      <td>No</td>\n",
       "    </tr>\n",
       "    <tr>\n",
       "      <th>3</th>\n",
       "      <td>Male</td>\n",
       "      <td>Masters</td>\n",
       "      <td>Lower Middle Class</td>\n",
       "      <td>Part-Time</td>\n",
       "      <td>No</td>\n",
       "      <td>No</td>\n",
       "      <td>&lt; 30 mins</td>\n",
       "      <td>1 Km - 2 Km.</td>\n",
       "      <td>Never</td>\n",
       "      <td>Never</td>\n",
       "      <td>...</td>\n",
       "      <td>No</td>\n",
       "      <td>No</td>\n",
       "      <td>Yes</td>\n",
       "      <td>Occasionally</td>\n",
       "      <td>Non-Veg</td>\n",
       "      <td>Sometimes</td>\n",
       "      <td>Yes</td>\n",
       "      <td>Yes</td>\n",
       "      <td>No</td>\n",
       "      <td>Yes</td>\n",
       "    </tr>\n",
       "    <tr>\n",
       "      <th>4</th>\n",
       "      <td>Male</td>\n",
       "      <td>Bachelors</td>\n",
       "      <td>Lower Middle Class</td>\n",
       "      <td>Full-Time</td>\n",
       "      <td>Yes</td>\n",
       "      <td>No</td>\n",
       "      <td>&lt; 30 mins</td>\n",
       "      <td>&lt; 1 Km.</td>\n",
       "      <td>Daily</td>\n",
       "      <td>Never</td>\n",
       "      <td>...</td>\n",
       "      <td>No</td>\n",
       "      <td>Yes</td>\n",
       "      <td>No</td>\n",
       "      <td>Never</td>\n",
       "      <td>Non-Veg</td>\n",
       "      <td>Sometimes</td>\n",
       "      <td>No</td>\n",
       "      <td>No</td>\n",
       "      <td>No</td>\n",
       "      <td>No</td>\n",
       "    </tr>\n",
       "  </tbody>\n",
       "</table>\n",
       "<p>5 rows × 35 columns</p>\n",
       "</div>"
      ],
      "text/plain": [
       "  Gender Educational Level     Economic Status Is_Employed  \\\n",
       "0   Male         Bachelors  Upper Middle Class   Full-Time   \n",
       "1   Male           Masters  Upper Middle Class  Unemployed   \n",
       "2   Male             Above  Lower Middle Class   Full-Time   \n",
       "3   Male           Masters  Lower Middle Class   Part-Time   \n",
       "4   Male         Bachelors  Lower Middle Class   Full-Time   \n",
       "\n",
       "  Is_Medically_Insured Visit_Gym Duration of daily exercise  \\\n",
       "0                  Yes        No                  < 30 mins   \n",
       "1                   No       Yes             1 hr - 1.5 hrs   \n",
       "2                  Yes        No                  < 30 mins   \n",
       "3                   No        No                  < 30 mins   \n",
       "4                  Yes        No                  < 30 mins   \n",
       "\n",
       "  Duration of daily walking Smoking Habit Habit of Snus  ...  \\\n",
       "0                   < 1 Km.         Never         Never  ...   \n",
       "1              1 Km - 2 Km.         Never         Never  ...   \n",
       "2              2 Km - 3 Km.  Occasionally  Occasionally  ...   \n",
       "3              1 Km - 2 Km.         Never         Never  ...   \n",
       "4                   < 1 Km.         Daily         Never  ...   \n",
       "\n",
       "  Hospitalized in a year Regular physician consultation Negative lifestyle  \\\n",
       "0                    Yes                             No                Yes   \n",
       "1                     No                             No                Yes   \n",
       "2                     No                             No                Yes   \n",
       "3                     No                             No                Yes   \n",
       "4                     No                            Yes                 No   \n",
       "\n",
       "  Skipping Diet   Food-type WFH due to COVID-19  \\\n",
       "0  Occasionally  Vegetarian                 Yes   \n",
       "1         Never  Vegetarian                 Yes   \n",
       "2  Occasionally     Non-Veg                 Yes   \n",
       "3  Occasionally     Non-Veg           Sometimes   \n",
       "4         Never     Non-Veg           Sometimes   \n",
       "\n",
       "  Sedentary lifestyle due to COVID-19 Unhealthy food habit due to COVID-19  \\\n",
       "0                                 Yes                                   No   \n",
       "1                                 Yes                                   No   \n",
       "2                                  No                                   No   \n",
       "3                                 Yes                                  Yes   \n",
       "4                                  No                                   No   \n",
       "\n",
       "  Addiction due to COVID Depression  \n",
       "0                     No         No  \n",
       "1                     No        Yes  \n",
       "2                     No         No  \n",
       "3                     No        Yes  \n",
       "4                     No         No  \n",
       "\n",
       "[5 rows x 35 columns]"
      ]
     },
     "execution_count": 53,
     "metadata": {},
     "output_type": "execute_result"
    }
   ],
   "source": [
    "obj_df = data.select_dtypes(include=['object']).copy()\n",
    "obj_df.head()"
   ]
  },
  {
   "cell_type": "code",
   "execution_count": 54,
   "id": "255734dc",
   "metadata": {},
   "outputs": [
    {
     "data": {
      "text/html": [
       "<div>\n",
       "<style scoped>\n",
       "    .dataframe tbody tr th:only-of-type {\n",
       "        vertical-align: middle;\n",
       "    }\n",
       "\n",
       "    .dataframe tbody tr th {\n",
       "        vertical-align: top;\n",
       "    }\n",
       "\n",
       "    .dataframe thead th {\n",
       "        text-align: right;\n",
       "    }\n",
       "</style>\n",
       "<table border=\"1\" class=\"dataframe\">\n",
       "  <thead>\n",
       "    <tr style=\"text-align: right;\">\n",
       "      <th></th>\n",
       "      <th>Gender</th>\n",
       "      <th>Educational Level</th>\n",
       "      <th>Economic Status</th>\n",
       "      <th>Is_Employed</th>\n",
       "      <th>Is_Medically_Insured</th>\n",
       "      <th>Visit_Gym</th>\n",
       "      <th>Duration of daily exercise</th>\n",
       "      <th>Duration of daily walking</th>\n",
       "      <th>Smoking Habit</th>\n",
       "      <th>Habit of Snus</th>\n",
       "      <th>...</th>\n",
       "      <th>Hospitalized in a year</th>\n",
       "      <th>Regular physician consultation</th>\n",
       "      <th>Negative lifestyle</th>\n",
       "      <th>Skipping Diet</th>\n",
       "      <th>Food-type</th>\n",
       "      <th>WFH due to COVID-19</th>\n",
       "      <th>Sedentary lifestyle due to COVID-19</th>\n",
       "      <th>Unhealthy food habit due to COVID-19</th>\n",
       "      <th>Addiction due to COVID</th>\n",
       "      <th>Depression</th>\n",
       "    </tr>\n",
       "  </thead>\n",
       "  <tbody>\n",
       "  </tbody>\n",
       "</table>\n",
       "<p>0 rows × 35 columns</p>\n",
       "</div>"
      ],
      "text/plain": [
       "Empty DataFrame\n",
       "Columns: [Gender, Educational Level, Economic Status, Is_Employed, Is_Medically_Insured, Visit_Gym, Duration of daily exercise, Duration of daily walking, Smoking Habit, Habit of Snus, Habit of Paan-Masala, Habit of Alcohol, The habit of Energy Drinks or Sweet Beverages, Mobile Application for Activity Tracking, Mobile Application for Diet Tracking, Social Participation Type, Social Participation duration, The habit of Vegetables, Habit of Fruits, Habit of Junk Fried Foods, Habit of Sweets, Habit of Red Meat, Habit of Taking BBQ, Habit of Taking discritionary foods, Existing health problems, Hospitalized in a year, Regular physician consultation, Negative lifestyle, Skipping Diet, Food-type, WFH due to COVID-19, Sedentary lifestyle due to COVID-19, Unhealthy food habit due to COVID-19, Addiction due to COVID, Depression]\n",
       "Index: []\n",
       "\n",
       "[0 rows x 35 columns]"
      ]
     },
     "execution_count": 54,
     "metadata": {},
     "output_type": "execute_result"
    }
   ],
   "source": [
    "obj_df[obj_df.isnull().any(axis=1)]"
   ]
  },
  {
   "cell_type": "code",
   "execution_count": 55,
   "id": "e365c69f",
   "metadata": {},
   "outputs": [
    {
     "data": {
      "text/plain": [
       "array(['Male', 'Female'], dtype=object)"
      ]
     },
     "execution_count": 55,
     "metadata": {},
     "output_type": "execute_result"
    }
   ],
   "source": [
    "data.Gender.unique()"
   ]
  },
  {
   "cell_type": "code",
   "execution_count": 56,
   "id": "8039214d",
   "metadata": {},
   "outputs": [
    {
     "data": {
      "text/plain": [
       "array(['Bachelors', 'Masters', 'Above', 'Diploma', '10th - 12th',\n",
       "       'Below 10th'], dtype=object)"
      ]
     },
     "execution_count": 56,
     "metadata": {},
     "output_type": "execute_result"
    }
   ],
   "source": [
    "data['Educational Level'].unique()"
   ]
  },
  {
   "cell_type": "code",
   "execution_count": 57,
   "id": "43012176",
   "metadata": {},
   "outputs": [
    {
     "data": {
      "text/plain": [
       "array(['Full-Time', 'Unemployed', 'Part-Time', 'Retired', 'House-Wife',\n",
       "       'Student', 'Business', 'Part-Time;Student', 'Business;Part-Time',\n",
       "       'Student;Unemployed', 'Full-Time;Business'], dtype=object)"
      ]
     },
     "execution_count": 57,
     "metadata": {},
     "output_type": "execute_result"
    }
   ],
   "source": [
    "data.Is_Employed.unique()"
   ]
  },
  {
   "cell_type": "code",
   "execution_count": 58,
   "id": "623bcee2",
   "metadata": {},
   "outputs": [
    {
     "data": {
      "text/plain": [
       "array(['Yes', 'No'], dtype=object)"
      ]
     },
     "execution_count": 58,
     "metadata": {},
     "output_type": "execute_result"
    }
   ],
   "source": [
    "data['Is_Medically_Insured'].unique()"
   ]
  },
  {
   "cell_type": "code",
   "execution_count": 59,
   "id": "9d8f4b8a",
   "metadata": {},
   "outputs": [
    {
     "data": {
      "text/plain": [
       "array(['No', 'Yes'], dtype=object)"
      ]
     },
     "execution_count": 59,
     "metadata": {},
     "output_type": "execute_result"
    }
   ],
   "source": [
    "data['Visit_Gym'].unique()"
   ]
  },
  {
   "cell_type": "code",
   "execution_count": 60,
   "id": "5b6d8765",
   "metadata": {},
   "outputs": [
    {
     "data": {
      "text/plain": [
       "array(['< 30 mins', '1 hr - 1.5 hrs', '30 mins - 1 hr', '1.5 hrs - 2 hrs',\n",
       "       '> 2 hrs'], dtype=object)"
      ]
     },
     "execution_count": 60,
     "metadata": {},
     "output_type": "execute_result"
    }
   ],
   "source": [
    "data['Duration of daily exercise'].unique()"
   ]
  },
  {
   "cell_type": "code",
   "execution_count": 61,
   "id": "0830dc70",
   "metadata": {},
   "outputs": [
    {
     "data": {
      "text/plain": [
       "array(['< 1 Km.', '1 Km - 2 Km.', '2 Km - 3 Km.', '> 4 Km',\n",
       "       '3 Km - 4 Km.'], dtype=object)"
      ]
     },
     "execution_count": 61,
     "metadata": {},
     "output_type": "execute_result"
    }
   ],
   "source": [
    "data['Duration of daily walking'].unique()"
   ]
  },
  {
   "cell_type": "code",
   "execution_count": 62,
   "id": "79e4fabc",
   "metadata": {},
   "outputs": [
    {
     "data": {
      "text/plain": [
       "array(['Never', 'Occasionally', 'Daily'], dtype=object)"
      ]
     },
     "execution_count": 62,
     "metadata": {},
     "output_type": "execute_result"
    }
   ],
   "source": [
    "data['Smoking Habit'].unique()"
   ]
  },
  {
   "cell_type": "code",
   "execution_count": 63,
   "id": "9d51ee47",
   "metadata": {},
   "outputs": [
    {
     "data": {
      "text/plain": [
       "array(['Never', 'Occasionally'], dtype=object)"
      ]
     },
     "execution_count": 63,
     "metadata": {},
     "output_type": "execute_result"
    }
   ],
   "source": [
    "data['Habit of Snus'].unique()"
   ]
  },
  {
   "cell_type": "code",
   "execution_count": 64,
   "id": "1f6cc8b9",
   "metadata": {},
   "outputs": [
    {
     "data": {
      "text/plain": [
       "array(['Never', 'Occasionally', 'Daily'], dtype=object)"
      ]
     },
     "execution_count": 64,
     "metadata": {},
     "output_type": "execute_result"
    }
   ],
   "source": [
    "data['Habit of Paan-Masala'].unique()"
   ]
  },
  {
   "cell_type": "code",
   "execution_count": 65,
   "id": "24b19e5f",
   "metadata": {},
   "outputs": [
    {
     "data": {
      "text/plain": [
       "array(['Never', 'Occasionally', 'Daily'], dtype=object)"
      ]
     },
     "execution_count": 65,
     "metadata": {},
     "output_type": "execute_result"
    }
   ],
   "source": [
    "data['Habit of Alcohol'].unique()"
   ]
  },
  {
   "cell_type": "code",
   "execution_count": 66,
   "id": "c886abff",
   "metadata": {},
   "outputs": [
    {
     "data": {
      "text/plain": [
       "array(['Never', 'Occasionally', 'Daily'], dtype=object)"
      ]
     },
     "execution_count": 66,
     "metadata": {},
     "output_type": "execute_result"
    }
   ],
   "source": [
    "data['The habit of Energy Drinks or Sweet Beverages'].unique()"
   ]
  },
  {
   "cell_type": "code",
   "execution_count": 67,
   "id": "4b0868e1",
   "metadata": {},
   "outputs": [
    {
     "data": {
      "text/plain": [
       "array(['No', 'Yes'], dtype=object)"
      ]
     },
     "execution_count": 67,
     "metadata": {},
     "output_type": "execute_result"
    }
   ],
   "source": [
    "data['Mobile Application for Activity Tracking'].unique()"
   ]
  },
  {
   "cell_type": "code",
   "execution_count": 68,
   "id": "f74f3437",
   "metadata": {},
   "outputs": [
    {
     "data": {
      "text/plain": [
       "array(['No', 'Yes'], dtype=object)"
      ]
     },
     "execution_count": 68,
     "metadata": {},
     "output_type": "execute_result"
    }
   ],
   "source": [
    "data['Mobile Application for Diet Tracking'].unique()"
   ]
  },
  {
   "cell_type": "code",
   "execution_count": 69,
   "id": "f5a4c1bb",
   "metadata": {},
   "outputs": [
    {
     "data": {
      "text/plain": [
       "array(['Offline (gathering, party)', 'Online (social sites)', 'Both'],\n",
       "      dtype=object)"
      ]
     },
     "execution_count": 69,
     "metadata": {},
     "output_type": "execute_result"
    }
   ],
   "source": [
    "data['Social Participation Type'].unique()"
   ]
  },
  {
   "cell_type": "code",
   "execution_count": 71,
   "id": "f0c7ce60",
   "metadata": {},
   "outputs": [
    {
     "data": {
      "text/plain": [
       "array(['Offline (gathering, party)', 'Online (social sites)'],\n",
       "      dtype=object)"
      ]
     },
     "execution_count": 71,
     "metadata": {},
     "output_type": "execute_result"
    }
   ],
   "source": [
    "data['Social Participation duration'].unique()"
   ]
  },
  {
   "cell_type": "code",
   "execution_count": 72,
   "id": "103380cc",
   "metadata": {},
   "outputs": [
    {
     "data": {
      "text/plain": [
       "array(['Daily', 'Occasionally', 'Never'], dtype=object)"
      ]
     },
     "execution_count": 72,
     "metadata": {},
     "output_type": "execute_result"
    }
   ],
   "source": [
    "data['The habit of Vegetables'].unique()"
   ]
  },
  {
   "cell_type": "code",
   "execution_count": 73,
   "id": "15b0c752",
   "metadata": {},
   "outputs": [
    {
     "data": {
      "text/plain": [
       "array(['Daily', 'Occasionally', 'Never'], dtype=object)"
      ]
     },
     "execution_count": 73,
     "metadata": {},
     "output_type": "execute_result"
    }
   ],
   "source": [
    "data['Habit of Fruits'].unique()"
   ]
  },
  {
   "cell_type": "code",
   "execution_count": 74,
   "id": "4c49a4d9",
   "metadata": {},
   "outputs": [
    {
     "data": {
      "text/plain": [
       "array(['Occasionally', 'Daily', 'Never'], dtype=object)"
      ]
     },
     "execution_count": 74,
     "metadata": {},
     "output_type": "execute_result"
    }
   ],
   "source": [
    "data['Habit of Junk Fried Foods'].unique()"
   ]
  },
  {
   "cell_type": "code",
   "execution_count": 75,
   "id": "27b53d28",
   "metadata": {},
   "outputs": [
    {
     "data": {
      "text/plain": [
       "array(['Daily', 'Occasionally', 'Never'], dtype=object)"
      ]
     },
     "execution_count": 75,
     "metadata": {},
     "output_type": "execute_result"
    }
   ],
   "source": [
    "data['Habit of Sweets'].unique()"
   ]
  },
  {
   "cell_type": "code",
   "execution_count": 76,
   "id": "481473f7",
   "metadata": {},
   "outputs": [
    {
     "data": {
      "text/plain": [
       "array(['Never', 'Occasionally', 'Daily'], dtype=object)"
      ]
     },
     "execution_count": 76,
     "metadata": {},
     "output_type": "execute_result"
    }
   ],
   "source": [
    "data['Habit of Red Meat'].unique()"
   ]
  },
  {
   "cell_type": "code",
   "execution_count": 77,
   "id": "0e6238b7",
   "metadata": {},
   "outputs": [
    {
     "data": {
      "text/plain": [
       "array(['Never', 'Occasionally', 'Daily'], dtype=object)"
      ]
     },
     "execution_count": 77,
     "metadata": {},
     "output_type": "execute_result"
    }
   ],
   "source": [
    "data['Habit of Taking BBQ'].unique()"
   ]
  },
  {
   "cell_type": "code",
   "execution_count": 78,
   "id": "03bd10be",
   "metadata": {},
   "outputs": [
    {
     "data": {
      "text/plain": [
       "array(['Occasionally', 'Never', 'Daily'], dtype=object)"
      ]
     },
     "execution_count": 78,
     "metadata": {},
     "output_type": "execute_result"
    }
   ],
   "source": [
    "data['Habit of Taking discritionary foods'].unique()"
   ]
  },
  {
   "cell_type": "code",
   "execution_count": 79,
   "id": "dd24413d",
   "metadata": {},
   "outputs": [
    {
     "data": {
      "text/plain": [
       "array(['None of The Above', 'Diabetes Type II;High BP;Sleeping Disorder',\n",
       "       'High BP', 'Under-Weight;Depression;Sleeping Disorder',\n",
       "       'Over-Weight;High BP', 'Diabetes Type II;High Lipid;Depression',\n",
       "       'Obesity;High BP', 'Obesity', 'Sleeping Disorder',\n",
       "       'Diabetes Type II', 'High Lipid;Sleeping Disorder',\n",
       "       'Over-Weight;Depression', 'Obesity;Over-Weight;High BP;Depression',\n",
       "       'Over-Weight;High Lipid;Sleeping Disorder', 'Over-Weight',\n",
       "       'Depression', 'Obesity;Over-Weight;High BP', 'Obesity;Over-Weight',\n",
       "       'Depression;Sleeping Disorder', 'Under-Weight',\n",
       "       'Over-Weight;High Lipid;High BP;Depression',\n",
       "       'Over-Weight;High Lipid;Depression;Sleeping Disorder',\n",
       "       'Over-Weight;Sleeping Disorder',\n",
       "       'Over-Weight;Diabetes Type II;High BP;Sleeping Disorder',\n",
       "       'Over-Weight;Cardio Vascular Disease', 'Cardio Vascular Disease',\n",
       "       'Sleeping Disorder;None of The Above',\n",
       "       'Over-Weight;Depression;Sleeping Disorder', 'High Lipid',\n",
       "       'High BP;Depression;Sleeping Disorder', 'Over-Weight;High Lipid',\n",
       "       'Over-Weight;Diabetes Type II;High BP',\n",
       "       'Over-Weight;Diabetes Type II;High BP;Depression',\n",
       "       'Under-Weight;Sleeping Disorder', 'Under-Weight;Depression',\n",
       "       'High BP;Depression', 'High BP;Sleeping Disorder',\n",
       "       'Obesity;Over-Weight;High BP;Sleeping Disorder',\n",
       "       'Obesity;Over-Weight;Cardio Vascular Disease;High BP',\n",
       "       'Diabetes Type II;High Lipid;High BP',\n",
       "       'High Lipid;Depression;Sleeping Disorder;None of The Above'],\n",
       "      dtype=object)"
      ]
     },
     "execution_count": 79,
     "metadata": {},
     "output_type": "execute_result"
    }
   ],
   "source": [
    "data['Existing health problems'].unique()"
   ]
  },
  {
   "cell_type": "code",
   "execution_count": 80,
   "id": "70970d55",
   "metadata": {},
   "outputs": [
    {
     "data": {
      "text/plain": [
       "array(['Yes', 'No'], dtype=object)"
      ]
     },
     "execution_count": 80,
     "metadata": {},
     "output_type": "execute_result"
    }
   ],
   "source": [
    "data['Hospitalized in a year'].unique()"
   ]
  },
  {
   "cell_type": "code",
   "execution_count": 81,
   "id": "6a74b522",
   "metadata": {},
   "outputs": [
    {
     "data": {
      "text/plain": [
       "array(['No', 'Yes'], dtype=object)"
      ]
     },
     "execution_count": 81,
     "metadata": {},
     "output_type": "execute_result"
    }
   ],
   "source": [
    "data['Regular physician consultation'].unique()"
   ]
  },
  {
   "cell_type": "code",
   "execution_count": 82,
   "id": "902b8402",
   "metadata": {},
   "outputs": [
    {
     "data": {
      "text/plain": [
       "array(['Yes', 'No'], dtype=object)"
      ]
     },
     "execution_count": 82,
     "metadata": {},
     "output_type": "execute_result"
    }
   ],
   "source": [
    "data['Negative lifestyle'].unique()"
   ]
  },
  {
   "cell_type": "code",
   "execution_count": 83,
   "id": "d4fd920f",
   "metadata": {},
   "outputs": [
    {
     "data": {
      "text/plain": [
       "array(['Occasionally', 'Never', 'Daily'], dtype=object)"
      ]
     },
     "execution_count": 83,
     "metadata": {},
     "output_type": "execute_result"
    }
   ],
   "source": [
    "data['Skipping Diet'].unique()"
   ]
  },
  {
   "cell_type": "code",
   "execution_count": 84,
   "id": "c7b1ca26",
   "metadata": {},
   "outputs": [
    {
     "data": {
      "text/plain": [
       "array(['Vegetarian', 'Non-Veg'], dtype=object)"
      ]
     },
     "execution_count": 84,
     "metadata": {},
     "output_type": "execute_result"
    }
   ],
   "source": [
    "data['Food-type'].unique()"
   ]
  },
  {
   "cell_type": "code",
   "execution_count": 85,
   "id": "178fcc41",
   "metadata": {},
   "outputs": [
    {
     "data": {
      "text/plain": [
       "array(['Yes', 'Sometimes', 'No'], dtype=object)"
      ]
     },
     "execution_count": 85,
     "metadata": {},
     "output_type": "execute_result"
    }
   ],
   "source": [
    "data['WFH due to COVID-19'].unique()"
   ]
  },
  {
   "cell_type": "code",
   "execution_count": 86,
   "id": "d615800a",
   "metadata": {},
   "outputs": [
    {
     "data": {
      "text/plain": [
       "array(['Yes', 'No'], dtype=object)"
      ]
     },
     "execution_count": 86,
     "metadata": {},
     "output_type": "execute_result"
    }
   ],
   "source": [
    "data['Sedentary lifestyle due to COVID-19'].unique()"
   ]
  },
  {
   "cell_type": "code",
   "execution_count": 87,
   "id": "471c85a2",
   "metadata": {},
   "outputs": [
    {
     "data": {
      "text/plain": [
       "array(['No', 'Yes'], dtype=object)"
      ]
     },
     "execution_count": 87,
     "metadata": {},
     "output_type": "execute_result"
    }
   ],
   "source": [
    "data['Unhealthy food habit due to COVID-19'].unique()"
   ]
  },
  {
   "cell_type": "code",
   "execution_count": 88,
   "id": "eecd98d2",
   "metadata": {},
   "outputs": [
    {
     "data": {
      "text/plain": [
       "array(['No', 'Yes'], dtype=object)"
      ]
     },
     "execution_count": 88,
     "metadata": {},
     "output_type": "execute_result"
    }
   ],
   "source": [
    "data['Addiction due to COVID'].unique()"
   ]
  },
  {
   "cell_type": "code",
   "execution_count": 89,
   "id": "46188ca1",
   "metadata": {},
   "outputs": [
    {
     "data": {
      "text/plain": [
       "array(['No', 'Yes'], dtype=object)"
      ]
     },
     "execution_count": 89,
     "metadata": {},
     "output_type": "execute_result"
    }
   ],
   "source": [
    "data['Depression'].unique()"
   ]
  },
  {
   "cell_type": "code",
   "execution_count": 90,
   "id": "232118d3",
   "metadata": {},
   "outputs": [],
   "source": [
    "data.Gender=data.Gender.astype('category').cat.codes\n",
    "data['Educational Level'] = data['Educational Level'].astype('category').cat.codes\n",
    "data['Economic Status'] = data['Economic Status'].astype('category').cat.codes\n",
    "data['Is_Employed'] = data['Is_Employed'].astype('category').cat.codes\n",
    "data['Is_Medically_Insured'] = data['Is_Medically_Insured'].astype('category').cat.codes\n",
    "data['Visit_Gym'] = data['Visit_Gym'].astype('category').cat.codes\n",
    "data['Duration of daily exercise'] = data['Duration of daily exercise'].astype('category').cat.codes\n",
    "data['Duration of daily walking'] = data['Duration of daily walking'].astype('category').cat.codes\n",
    "data['Smoking Habit'] = data['Smoking Habit'].astype('category').cat.codes\n",
    "data['Habit of Snus'] = data['Habit of Snus'].astype('category').cat.codes\n",
    "data['Habit of Paan-Masala'] = data['Habit of Paan-Masala'].astype('category').cat.codes\n",
    "data['Habit of Alcohol'] = data['Habit of Alcohol'].astype('category').cat.codes\n",
    "data['The habit of Energy Drinks or Sweet Beverages'] = data['The habit of Energy Drinks or Sweet Beverages'].astype('category').cat.codes\n",
    "data['Mobile Application for Activity Tracking'] = data['Mobile Application for Activity Tracking'].astype('category').cat.codes\n",
    "data['Mobile Application for Diet Tracking'] = data['Mobile Application for Diet Tracking'].astype('category').cat.codes\n",
    "data['Social Participation Type'] = data['Social Participation Type'].astype('category').cat.codes\n",
    "data['Social Participation duration'] = data['Social Participation duration'].astype('category').cat.codes\n",
    "data['The habit of Vegetables'] = data['The habit of Vegetables'].astype('category').cat.codes\n",
    "data['Habit of Fruits'] = data['Habit of Fruits'].astype('category').cat.codes\n",
    "data['Habit of Junk Fried Foods'] = data['Habit of Junk Fried Foods'].astype('category').cat.codes\n",
    "data['Habit of Sweets'] = data['Habit of Sweets'].astype('category').cat.codes\n",
    "data['Habit of Red Meat'] = data['Habit of Red Meat'].astype('category').cat.codes\n",
    "data['Habit of Taking BBQ'] = data['Habit of Taking BBQ'].astype('category').cat.codes\n",
    "data['Habit of Taking discritionary foods'] = data['Habit of Taking discritionary foods'].astype('category').cat.codes\n",
    "data['Existing health problems'] = data['Existing health problems'].astype('category').cat.codes\n",
    "data['Hospitalized in a year'] = data['Hospitalized in a year'].astype('category').cat.codes\n",
    "data['Regular physician consultation'] = data['Regular physician consultation'].astype('category').cat.codes\n",
    "data['Negative lifestyle'] = data['Negative lifestyle'].astype('category').cat.codes\n",
    "data['Skipping Diet'] = data['Skipping Diet'].astype('category').cat.codes\n",
    "data['Food-type'] = data['Food-type'].astype('category').cat.codes\n",
    "data['WFH due to COVID-19'] = data['WFH due to COVID-19'].astype('category').cat.codes\n",
    "data['Sedentary lifestyle due to COVID-19'] = data['Sedentary lifestyle due to COVID-19'].astype('category').cat.codes\n",
    "data['Unhealthy food habit due to COVID-19'] = data['Unhealthy food habit due to COVID-19'].astype('category').cat.codes\n",
    "data['Addiction due to COVID'] = data['Addiction due to COVID'].astype('category').cat.codes\n",
    "data['Depression'] = data['Depression'].astype('category').cat.codes"
   ]
  },
  {
   "cell_type": "code",
   "execution_count": 91,
   "id": "8af9fb28",
   "metadata": {},
   "outputs": [
    {
     "data": {
      "text/html": [
       "<div>\n",
       "<style scoped>\n",
       "    .dataframe tbody tr th:only-of-type {\n",
       "        vertical-align: middle;\n",
       "    }\n",
       "\n",
       "    .dataframe tbody tr th {\n",
       "        vertical-align: top;\n",
       "    }\n",
       "\n",
       "    .dataframe thead th {\n",
       "        text-align: right;\n",
       "    }\n",
       "</style>\n",
       "<table border=\"1\" class=\"dataframe\">\n",
       "  <thead>\n",
       "    <tr style=\"text-align: right;\">\n",
       "      <th></th>\n",
       "      <th>Age</th>\n",
       "      <th>Height</th>\n",
       "      <th>Weight</th>\n",
       "      <th>Gender</th>\n",
       "      <th>Educational Level</th>\n",
       "      <th>Economic Status</th>\n",
       "      <th>Dependant</th>\n",
       "      <th>Is_Employed</th>\n",
       "      <th>Is_Medically_Insured</th>\n",
       "      <th>Visit_Gym</th>\n",
       "      <th>...</th>\n",
       "      <th>Hospitalized in a year</th>\n",
       "      <th>Regular physician consultation</th>\n",
       "      <th>Negative lifestyle</th>\n",
       "      <th>Skipping Diet</th>\n",
       "      <th>Food-type</th>\n",
       "      <th>WFH due to COVID-19</th>\n",
       "      <th>Sedentary lifestyle due to COVID-19</th>\n",
       "      <th>Unhealthy food habit due to COVID-19</th>\n",
       "      <th>Addiction due to COVID</th>\n",
       "      <th>Depression</th>\n",
       "    </tr>\n",
       "  </thead>\n",
       "  <tbody>\n",
       "    <tr>\n",
       "      <th>0</th>\n",
       "      <td>50</td>\n",
       "      <td>129.54</td>\n",
       "      <td>75.0</td>\n",
       "      <td>1</td>\n",
       "      <td>2</td>\n",
       "      <td>5</td>\n",
       "      <td>4</td>\n",
       "      <td>2</td>\n",
       "      <td>1</td>\n",
       "      <td>0</td>\n",
       "      <td>...</td>\n",
       "      <td>1</td>\n",
       "      <td>0</td>\n",
       "      <td>1</td>\n",
       "      <td>2</td>\n",
       "      <td>1</td>\n",
       "      <td>2</td>\n",
       "      <td>1</td>\n",
       "      <td>0</td>\n",
       "      <td>0</td>\n",
       "      <td>0</td>\n",
       "    </tr>\n",
       "    <tr>\n",
       "      <th>1</th>\n",
       "      <td>26</td>\n",
       "      <td>180.34</td>\n",
       "      <td>69.0</td>\n",
       "      <td>1</td>\n",
       "      <td>5</td>\n",
       "      <td>5</td>\n",
       "      <td>1</td>\n",
       "      <td>10</td>\n",
       "      <td>0</td>\n",
       "      <td>1</td>\n",
       "      <td>...</td>\n",
       "      <td>0</td>\n",
       "      <td>0</td>\n",
       "      <td>1</td>\n",
       "      <td>1</td>\n",
       "      <td>1</td>\n",
       "      <td>2</td>\n",
       "      <td>1</td>\n",
       "      <td>0</td>\n",
       "      <td>0</td>\n",
       "      <td>1</td>\n",
       "    </tr>\n",
       "    <tr>\n",
       "      <th>2</th>\n",
       "      <td>26</td>\n",
       "      <td>170.18</td>\n",
       "      <td>70.0</td>\n",
       "      <td>1</td>\n",
       "      <td>1</td>\n",
       "      <td>0</td>\n",
       "      <td>2</td>\n",
       "      <td>2</td>\n",
       "      <td>1</td>\n",
       "      <td>0</td>\n",
       "      <td>...</td>\n",
       "      <td>0</td>\n",
       "      <td>0</td>\n",
       "      <td>1</td>\n",
       "      <td>2</td>\n",
       "      <td>0</td>\n",
       "      <td>2</td>\n",
       "      <td>0</td>\n",
       "      <td>0</td>\n",
       "      <td>0</td>\n",
       "      <td>0</td>\n",
       "    </tr>\n",
       "    <tr>\n",
       "      <th>3</th>\n",
       "      <td>24</td>\n",
       "      <td>182.88</td>\n",
       "      <td>85.0</td>\n",
       "      <td>1</td>\n",
       "      <td>5</td>\n",
       "      <td>0</td>\n",
       "      <td>1</td>\n",
       "      <td>5</td>\n",
       "      <td>0</td>\n",
       "      <td>0</td>\n",
       "      <td>...</td>\n",
       "      <td>0</td>\n",
       "      <td>0</td>\n",
       "      <td>1</td>\n",
       "      <td>2</td>\n",
       "      <td>0</td>\n",
       "      <td>1</td>\n",
       "      <td>1</td>\n",
       "      <td>1</td>\n",
       "      <td>0</td>\n",
       "      <td>1</td>\n",
       "    </tr>\n",
       "    <tr>\n",
       "      <th>4</th>\n",
       "      <td>38</td>\n",
       "      <td>187.96</td>\n",
       "      <td>93.0</td>\n",
       "      <td>1</td>\n",
       "      <td>2</td>\n",
       "      <td>0</td>\n",
       "      <td>3</td>\n",
       "      <td>2</td>\n",
       "      <td>1</td>\n",
       "      <td>0</td>\n",
       "      <td>...</td>\n",
       "      <td>0</td>\n",
       "      <td>1</td>\n",
       "      <td>0</td>\n",
       "      <td>1</td>\n",
       "      <td>0</td>\n",
       "      <td>1</td>\n",
       "      <td>0</td>\n",
       "      <td>0</td>\n",
       "      <td>0</td>\n",
       "      <td>0</td>\n",
       "    </tr>\n",
       "  </tbody>\n",
       "</table>\n",
       "<p>5 rows × 41 columns</p>\n",
       "</div>"
      ],
      "text/plain": [
       "   Age  Height  Weight  Gender  Educational Level  Economic Status  Dependant  \\\n",
       "0   50  129.54    75.0       1                  2                5          4   \n",
       "1   26  180.34    69.0       1                  5                5          1   \n",
       "2   26  170.18    70.0       1                  1                0          2   \n",
       "3   24  182.88    85.0       1                  5                0          1   \n",
       "4   38  187.96    93.0       1                  2                0          3   \n",
       "\n",
       "   Is_Employed  Is_Medically_Insured  Visit_Gym  ...  Hospitalized in a year  \\\n",
       "0            2                     1          0  ...                       1   \n",
       "1           10                     0          1  ...                       0   \n",
       "2            2                     1          0  ...                       0   \n",
       "3            5                     0          0  ...                       0   \n",
       "4            2                     1          0  ...                       0   \n",
       "\n",
       "   Regular physician consultation  Negative lifestyle  Skipping Diet  \\\n",
       "0                               0                   1              2   \n",
       "1                               0                   1              1   \n",
       "2                               0                   1              2   \n",
       "3                               0                   1              2   \n",
       "4                               1                   0              1   \n",
       "\n",
       "   Food-type  WFH due to COVID-19  Sedentary lifestyle due to COVID-19  \\\n",
       "0          1                    2                                    1   \n",
       "1          1                    2                                    1   \n",
       "2          0                    2                                    0   \n",
       "3          0                    1                                    1   \n",
       "4          0                    1                                    0   \n",
       "\n",
       "   Unhealthy food habit due to COVID-19  Addiction due to COVID  Depression  \n",
       "0                                     0                       0           0  \n",
       "1                                     0                       0           1  \n",
       "2                                     0                       0           0  \n",
       "3                                     1                       0           1  \n",
       "4                                     0                       0           0  \n",
       "\n",
       "[5 rows x 41 columns]"
      ]
     },
     "execution_count": 91,
     "metadata": {},
     "output_type": "execute_result"
    }
   ],
   "source": [
    "data.head()"
   ]
  },
  {
   "cell_type": "code",
   "execution_count": 92,
   "id": "69dacedc",
   "metadata": {},
   "outputs": [],
   "source": [
    "data.to_csv(\"survey_encoded.csv\")"
   ]
  },
  {
   "cell_type": "code",
   "execution_count": null,
   "id": "b612ae31",
   "metadata": {},
   "outputs": [],
   "source": []
  }
 ],
 "metadata": {
  "kernelspec": {
   "display_name": "Python 3 (ipykernel)",
   "language": "python",
   "name": "python3"
  },
  "language_info": {
   "codemirror_mode": {
    "name": "ipython",
    "version": 3
   },
   "file_extension": ".py",
   "mimetype": "text/x-python",
   "name": "python",
   "nbconvert_exporter": "python",
   "pygments_lexer": "ipython3",
   "version": "3.7.0"
  }
 },
 "nbformat": 4,
 "nbformat_minor": 5
}
